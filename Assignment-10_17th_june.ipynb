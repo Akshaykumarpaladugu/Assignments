{
 "cells": [
  {
   "cell_type": "markdown",
   "id": "23df2428",
   "metadata": {},
   "source": [
    "1.What is the role of try and exception block?\n",
    "\n",
    "Answer:-\n",
    "         The \"try\" block contains the code that is potentially prone to errors. When an error occurs within the try block, the program immediately jumps to the corresponding \"except\" block, which specifies how to handle that particular error. The except block allows you to define alternative actions or error-handling mechanisms to prevent the program from crashing or behaving unexpectedly.\n",
    "         \n",
    "         \n",
    "Syntax:-\n",
    "\n",
    "       try:\n",
    "               statement...\n",
    "       \n",
    "       except:\n",
    "               statement..."
   ]
  },
  {
   "cell_type": "code",
   "execution_count": 2,
   "id": "319bdead",
   "metadata": {},
   "outputs": [
    {
     "name": "stdout",
     "output_type": "stream",
     "text": [
      "a is big than b\n"
     ]
    }
   ],
   "source": [
    "'''\n",
    "2.What is the syntax for a basic try-except block?\n",
    "\n",
    "\n",
    "Syntax:-\n",
    "\n",
    "            try:      # Code that may raise an exception\n",
    "            \n",
    "            \n",
    "            except ExceptionType1:   # Code to handle ExceptionType1\n",
    "\n",
    "\n",
    "            except ExceptionType2:    # Code to handle ExceptionType2\n",
    "   \n",
    "'''\n",
    "\n",
    "#example\n",
    "\n",
    "\n",
    "a=5\n",
    "b=2\n",
    "\n",
    "try:\n",
    "    if(a>b):\n",
    "        print(\"a is big than b\")\n",
    "\n",
    "except:\n",
    "    print(\"b is big than a\")"
   ]
  },
  {
   "cell_type": "code",
   "execution_count": null,
   "id": "c6b881f6",
   "metadata": {},
   "outputs": [],
   "source": [
    "''' \n",
    "3.What happens if an exception occurs inside a try block and there is no matching except block?\n",
    "\n",
    "Answer:-\n",
    "            If an exception occurs inside a try block and there is no matching except block to handle that specific exception,\n",
    "            the program will terminate abruptly, and an error message will be displayed to indicate the unhandled exception.\n",
    "\n",
    "\n",
    "            To avoid unhandled exceptions, it is recommended to include appropriate except blocks to catch and handle expected \n",
    "            exceptions within the try-except structure. \n",
    "\n",
    "\n",
    "\n",
    "'''"
   ]
  },
  {
   "cell_type": "markdown",
   "id": "256fa018",
   "metadata": {},
   "source": [
    "4.What is the difference between using a bare except block and specifying a specific exception type?\n",
    "\n",
    "Bare Except Block:-\n",
    "                    A bare except block, written as just \"except:\", catches all types of exceptions.It means that regardless of the type of exception that occurs, the code inside the bare except block will be executed. This can be convenient when you want to provide a general error message or perform generic error handling. However, using a bare except block is generally not recommended because it can make it harder to identify and debug specific exceptions.\n",
    "                    \n",
    "                    \n",
    "                    \n",
    "Specific Exception Type:-\n",
    "                            Specifying a specific exception type in an except block allows you to catch and handle only the exceptions of that particular type. By specifying the exception type, you can provide specialized error handling or perform specific actions based on the type of exception that occurred. This approach is preferred because it allows for more targeted error handling and makes the code more maintainable                   "
   ]
  },
  {
   "cell_type": "code",
   "execution_count": 8,
   "id": "df535e0c",
   "metadata": {},
   "outputs": [
    {
     "name": "stdout",
     "output_type": "stream",
     "text": [
      "Enter a number: 10\n",
      "Enter another number: 0\n",
      "Cannot divide by zero.\n"
     ]
    }
   ],
   "source": [
    "'''\n",
    "5.Can you have nested try-except blocks in Python? If yes, then give an example.\n",
    "\n",
    "\n",
    "'''\n",
    "\n",
    "try:\n",
    "    # Outer try block\n",
    "    num1 = int(input(\"Enter a number: \"))\n",
    "    \n",
    "    try:\n",
    "        # Inner try block\n",
    "        num2 = int(input(\"Enter another number: \"))\n",
    "        result = num1 / num2\n",
    "        print(\"Result:\", result)\n",
    "        \n",
    "    except ValueError:\n",
    "        # Inner except block for ValueError\n",
    "        print(\"Invalid input. Please enter a valid number.\")\n",
    "        \n",
    "    except ZeroDivisionError:\n",
    "        # Inner except block for ZeroDivisionError\n",
    "        print(\"Cannot divide by zero.\")\n",
    "    \n",
    "except Exception as e:\n",
    "    # Outer except block for any other exception\n",
    "    print(\"An error occurred:\", str(e))\n",
    "    \n",
    "    \n",
    "\n"
   ]
  },
  {
   "cell_type": "code",
   "execution_count": 10,
   "id": "c1cd8331",
   "metadata": {},
   "outputs": [
    {
     "name": "stdout",
     "output_type": "stream",
     "text": [
      "Enter a number: akshay\n",
      "Invalid input. Please enter a valid number.\n"
     ]
    }
   ],
   "source": [
    "'''\n",
    "6. Can we use multiple exception blocks, if yes then give an example.\n",
    "\n",
    "Answer:-\n",
    "            Yes, we can use multiple exception blocks in a try-except statement to handle different types of exceptions \n",
    "            separately. Here's an example:\n",
    "\n",
    "\n",
    "'''\n",
    "\n",
    "\n",
    "try:\n",
    "    # Code that may raise exceptions\n",
    "    x = int(input(\"Enter a number: \"))\n",
    "    result = 10 / x\n",
    "    print(\"Result:\", result)\n",
    "\n",
    "except ValueError:\n",
    "    # Handling ValueError exception\n",
    "    print(\"Invalid input. Please enter a valid number.\")\n",
    "\n",
    "except ZeroDivisionError:\n",
    "    # Handling ZeroDivisionError exception\n",
    "    print(\"Error: Cannot divide by zero.\")\n",
    "\n",
    "except Exception as e:\n",
    "    # Handling any other exceptions\n",
    "    print(\"An error occurred:\", str(e))\n"
   ]
  },
  {
   "cell_type": "code",
   "execution_count": null,
   "id": "72513f60",
   "metadata": {},
   "outputs": [],
   "source": [
    "'''\n",
    "7.Write the reason due to which following errors are raised:\n",
    "a. EOFError\n",
    "b. FloatingPointError\n",
    "c. IndexError\n",
    "d. MemoryError\n",
    "e. OverflowError\n",
    "f. TabError\n",
    "g. ValueError\n",
    "\n",
    "\n",
    "\n",
    "a. EOFError: This error is raised when there is an attempt to read beyond the end of a file or input stream. It occurs \n",
    "             when an input operation is expecting more data but reaches the end of the file or input stream.\n",
    "\n",
    "b. FloatingPointError: This error is raised when a floating-point operation fails to execute or results in an exceptional \n",
    "                       condition. It can occur due to various reasons such as division by zero, invalid mathematical operations\n",
    "                       or overflow/underflow of floating-point numbers.\n",
    "\n",
    "c. IndexError: This error is raised when you try to access a list, string, or other sequence using an invalid index. \n",
    "               It occurs when the index is out of range, i.e., either negative or greater than or equal to the length \n",
    "               of the sequence.\n",
    "\n",
    "d. MemoryError: This error is raised when the program cannot allocate more memory for an operation. It occurs when the\n",
    "                available memory is insufficient to fulfill a request, such as creating a large data structure or allocating \n",
    "                memory dynamically.\n",
    "\n",
    "e. OverflowError: This error is raised when the result of an arithmetic operation exceeds the maximum representable value \n",
    "                  for a numeric type. It occurs when the calculated result is too large to be represented within the numeric\n",
    "                  data type.\n",
    "\n",
    "f. TabError: This error is raised when there are inconsistencies or issues with the indentation of code using tabs and spaces. \n",
    "             It occurs when tabs and spaces are mixed incorrectly, leading to indentation errors and ambiguity in the code \n",
    "             structure.\n",
    "\n",
    "g. ValueError: This error is raised when a function receives an argument of the correct type but an inappropriate value. It \n",
    "               occurs when the input value does not conform to the expected range or format specified by the function or \n",
    "               operation.\n",
    "\n",
    "\n",
    "\n",
    "'''"
   ]
  },
  {
   "cell_type": "code",
   "execution_count": 1,
   "id": "01c0f5ee",
   "metadata": {},
   "outputs": [
    {
     "name": "stdout",
     "output_type": "stream",
     "text": [
      "Enter the numerator: 10\n",
      "Enter the denominator: 5\n",
      "Result: 2.0\n"
     ]
    }
   ],
   "source": [
    "'''\n",
    "8. Write code for the following given scenario and add try-exception block to it.\n",
    "a. Program to divide two numbers\n",
    "b. Program to convert a string to an integer\n",
    "c. Program to access an element in a list\n",
    "d. Program to handle a specific exception\n",
    "e. Program to handle any exception\n",
    "\n",
    "\n",
    "\n",
    "'''\n",
    "# a. Program to divide two numbers\n",
    "\n",
    "\n",
    "try:\n",
    "    numerator = int(input(\"Enter the numerator: \"))\n",
    "    denominator = int(input(\"Enter the denominator: \"))\n",
    "\n",
    "    result = numerator / denominator\n",
    "    print(\"Result:\", result)\n",
    "\n",
    "except ZeroDivisionError:\n",
    "    print(\"Error: Cannot divide by zero.\")\n",
    "\n",
    "except ValueError:\n",
    "    print(\"Error: Invalid input. Please enter valid integers.\")"
   ]
  },
  {
   "cell_type": "code",
   "execution_count": 3,
   "id": "5088ccfc",
   "metadata": {},
   "outputs": [
    {
     "name": "stdout",
     "output_type": "stream",
     "text": [
      "Enter a number: 10\n",
      "Integer value: 10\n"
     ]
    }
   ],
   "source": [
    "#8.b. Program to convert a string to an integer\n",
    "\n",
    "try:\n",
    "    string_num = input(\"Enter a number: \")\n",
    "    num = int(string_num)\n",
    "    print(\"Integer value:\", num)\n",
    "\n",
    "except ValueError:\n",
    "    print(\"Error: Invalid input. Please enter a valid integer.\")\n",
    "\n"
   ]
  },
  {
   "cell_type": "code",
   "execution_count": 6,
   "id": "5b0389e9",
   "metadata": {},
   "outputs": [
    {
     "name": "stdout",
     "output_type": "stream",
     "text": [
      "Enter the index to access: 3\n",
      "Element at index 3 is 4\n"
     ]
    }
   ],
   "source": [
    "#8.c. Program to access an element in a list\n",
    "\n",
    "try:\n",
    "    my_list = [1, 2, 3, 4, 5]\n",
    "    index = int(input(\"Enter the index to access: \"))\n",
    "    element = my_list[index]\n",
    "    print(\"Element at index\", index, \"is\", element)\n",
    "\n",
    "except IndexError:\n",
    "    print(\"Error: Index out of range.\")\n",
    "\n",
    "except ValueError:\n",
    "    print(\"Error: Invalid input. Please enter a valid integer.\")\n"
   ]
  },
  {
   "cell_type": "code",
   "execution_count": 10,
   "id": "3e9e1416",
   "metadata": {},
   "outputs": [
    {
     "name": "stdout",
     "output_type": "stream",
     "text": [
      "Enter a number: -2\n",
      "Error: Negative numbers are not allowed.\n"
     ]
    }
   ],
   "source": [
    "#8.d. Program to handle a specific exception\n",
    "\n",
    "try:\n",
    "    num = int(input(\"Enter a number: \"))\n",
    "\n",
    "    if num < 0:\n",
    "        raise ValueError(\"Negative numbers are not allowed.\")\n",
    "\n",
    "    print(\"Number:\", num)\n",
    "\n",
    "except ValueError as ve:\n",
    "    print(\"Error:\", str(ve))\n"
   ]
  },
  {
   "cell_type": "code",
   "execution_count": 11,
   "id": "3ddac7fe",
   "metadata": {},
   "outputs": [
    {
     "name": "stdout",
     "output_type": "stream",
     "text": [
      "Enter a number: 2\n",
      "Result: 5.0\n"
     ]
    }
   ],
   "source": [
    "#8.e. Program to handle any exception\n",
    "\n",
    "try:\n",
    "    # Code that may raise exceptions\n",
    "    x = int(input(\"Enter a number: \"))\n",
    "    result = 10 / x\n",
    "    print(\"Result:\", result)\n",
    "\n",
    "except Exception as e:\n",
    "    print(\"An error occurred:\", str(e))\n"
   ]
  }
 ],
 "metadata": {
  "kernelspec": {
   "display_name": "Python 3 (ipykernel)",
   "language": "python",
   "name": "python3"
  },
  "language_info": {
   "codemirror_mode": {
    "name": "ipython",
    "version": 3
   },
   "file_extension": ".py",
   "mimetype": "text/x-python",
   "name": "python",
   "nbconvert_exporter": "python",
   "pygments_lexer": "ipython3",
   "version": "3.9.12"
  }
 },
 "nbformat": 4,
 "nbformat_minor": 5
}
