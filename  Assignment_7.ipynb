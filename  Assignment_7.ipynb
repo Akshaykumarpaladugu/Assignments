{
 "cells": [
  {
   "cell_type": "markdown",
   "id": "9057b9be",
   "metadata": {},
   "source": [
    "# Python Basic-2"
   ]
  },
  {
   "cell_type": "code",
   "execution_count": 1,
   "id": "62e2331c",
   "metadata": {},
   "outputs": [
    {
     "name": "stdout",
     "output_type": "stream",
     "text": [
      "First variable is 10 & second variable is 5.\n",
      "Addition: 10 + 5 = 15\n",
      "Subtraction: 10 - 5 = 5\n",
      "Multiplication: 10 * 5 = 50\n",
      "Division: 10 / 5 = 2.0\n"
     ]
    }
   ],
   "source": [
    "#1. Question\n",
    "'''\n",
    "Q.1. Create two int type variables, apply addition, subtraction, division and multiplications\n",
    "and store the results in variables. Then print the data in the following format by calling the\n",
    "variables:\n",
    "First variable is __ & second variable is __.\n",
    "Addition: __ + __ = __\n",
    "Subtraction: __ - __ = __\n",
    "Multiplication: __ * __ = __\n",
    "Division: __ / __ = __\n",
    "\n",
    "\n",
    "'''\n",
    "\n",
    "#Answer:-\n",
    "\n",
    "# Creating the variables\n",
    "first_variable = 10\n",
    "second_variable = 5\n",
    "\n",
    "# Performing the calculations\n",
    "addition = first_variable + second_variable\n",
    "subtraction = first_variable - second_variable\n",
    "multiplication = first_variable * second_variable\n",
    "division = first_variable / second_variable\n",
    "\n",
    "# Printing the results\n",
    "print(f\"First variable is {first_variable} & second variable is {second_variable}.\")\n",
    "print(f\"Addition: {first_variable} + {second_variable} = {addition}\")\n",
    "print(f\"Subtraction: {first_variable} - {second_variable} = {subtraction}\")\n",
    "print(f\"Multiplication: {first_variable} * {second_variable} = {multiplication}\")\n",
    "print(f\"Division: {first_variable} / {second_variable} = {division}\")\n"
   ]
  },
  {
   "cell_type": "code",
   "execution_count": 4,
   "id": "c0c911dc",
   "metadata": {},
   "outputs": [
    {
     "name": "stdout",
     "output_type": "stream",
     "text": [
      "floating-point division is: 3.3333333333333335\n",
      "floor division is: 3\n"
     ]
    }
   ],
   "source": [
    "#2.\n",
    "'''\n",
    "Q.2. What is the difference between the following operators:\n",
    "(i) ‘/’ & ‘//’\n",
    "(ii) ‘**’ & ‘^’\n",
    "\n",
    "'''\n",
    "\n",
    "#Answer:-\n",
    "\n",
    "'''\n",
    "\n",
    "-->The '/' operator performs floating-point division, which means it returns the quotient as a \n",
    "floating-point number. For example, 10 / 3 would result in 3.3333333333333335.\n",
    "\n",
    "\n",
    "-->The '//' operator, known as the floor division operator or integer division operator, performs integer division\n",
    "\n",
    "\n",
    "Example:-\n",
    "\n",
    "'''\n",
    "\n",
    "\n",
    "a = 10\n",
    "b = 3\n",
    "\n",
    "result1 = a / b\n",
    "result2 = a // b\n",
    "\n",
    "print(\"floating-point division is:\",result1)  \n",
    "print(\"floor division is:\",result2) \n"
   ]
  },
  {
   "cell_type": "code",
   "execution_count": 6,
   "id": "79d13b33",
   "metadata": {},
   "outputs": [
    {
     "name": "stdout",
     "output_type": "stream",
     "text": [
      "exponentiation is: 8\n",
      "XOR operator is: 1\n"
     ]
    }
   ],
   "source": [
    "#Answer2B\n",
    "\n",
    "'''\n",
    "--> The '**' operator is the exponentiation operator.\n",
    "-->The '^' operator, on the other hand, is not a built-in exponentiation operator in Python. It is the bitwise XOR operator. \n",
    "   It performs a bitwise XOR operation on the binary representations of the operands\n",
    "\n",
    "Example:-\n",
    "'''\n",
    "a = 2\n",
    "b = 3\n",
    "\n",
    "result1 = a ** b\n",
    "result2 = a ^ b\n",
    "\n",
    "print(\"exponentiation is:\",result1) \n",
    "print(\"XOR operator is:\",result2) \n"
   ]
  },
  {
   "cell_type": "code",
   "execution_count": 7,
   "id": "3bcf41ba",
   "metadata": {},
   "outputs": [
    {
     "name": "stdout",
     "output_type": "stream",
     "text": [
      "Both conditions are true.\n",
      "At least one condition is true.\n",
      "It's sunny today.\n"
     ]
    }
   ],
   "source": [
    "#Q.3. List the logical operators.\n",
    "\n",
    "'''\n",
    "Answer:-\n",
    "\n",
    "\n",
    "   And: The and operator returns True if both operands are True, and False otherwise.\n",
    "         \n",
    "   Or: The or operator returns True if at least one of the operands is True, and False if both operands are False.\n",
    "\n",
    "   Not: The not operator returns the negation of the operand. If the operand is True, it returns False, and if the operand is\n",
    "         False, it returns True.\n",
    "         \n",
    "         \n",
    "         Example:-\n",
    "         \n",
    "'''\n",
    "# Logical AND operator\n",
    "x = 5\n",
    "y = 10\n",
    "z = 15\n",
    "\n",
    "if x < y and y < z:\n",
    "    print(\"Both conditions are true.\")\n",
    "\n",
    "# Logical OR operator\n",
    "a = 3\n",
    "b = 8\n",
    "c = 2\n",
    "\n",
    "if a > b or b > c:\n",
    "    print(\"At least one condition is true.\")\n",
    "\n",
    "# Logical NOT operator\n",
    "is_sunny = True\n",
    "\n",
    "if not is_sunny:\n",
    "    print(\"It's not sunny today.\")\n",
    "else:\n",
    "    print(\"It's sunny today.\")\n",
    "\n",
    "\n"
   ]
  },
  {
   "cell_type": "code",
   "execution_count": 9,
   "id": "a9c8c47c",
   "metadata": {},
   "outputs": [
    {
     "name": "stdout",
     "output_type": "stream",
     "text": [
      "Right shift is: 3\n",
      "Left shift is: 12\n"
     ]
    }
   ],
   "source": [
    "#Q.4. Explain right shift operator and left shift operator with examples.\n",
    "\n",
    "num = 12  # Binary: 1100\n",
    "\n",
    "# Right shift by 2 positions\n",
    "result = num >> 2  # Binary: 11\n",
    "\n",
    "print(\"Right shift is:\",result)\n",
    "\n",
    "\n",
    "num = 3  # Binary: 11\n",
    "\n",
    "# Left shift by 2 positions\n",
    "result = num << 2  # Binary: 1100\n",
    "\n",
    "print(\"Left shift is:\",result) \n",
    "\n"
   ]
  },
  {
   "cell_type": "code",
   "execution_count": null,
   "id": "3b4f9946",
   "metadata": {},
   "outputs": [],
   "source": [
    "#Q.5. Create a list containing int type data of length 15. Then write a code to check if 10 is present in the list or not.\n",
    "\n",
    "#Answer:-\n",
    "\n",
    "# Create a list of length 15 with random integers\n",
    "my_list = [5, 8, 12, 7, 3, 20, 15, 9, 18, 6, 10, 14, 11, 2, 17]\n",
    "\n",
    "# Check if 10 is present in the list\n",
    "if 10 in my_list:\n",
    "    print(\"10 is present in the list.\")\n",
    "else:\n",
    "    print(\"10 is not present in the list.\")\n"
   ]
  }
 ],
 "metadata": {
  "kernelspec": {
   "display_name": "Python 3 (ipykernel)",
   "language": "python",
   "name": "python3"
  },
  "language_info": {
   "codemirror_mode": {
    "name": "ipython",
    "version": 3
   },
   "file_extension": ".py",
   "mimetype": "text/x-python",
   "name": "python",
   "nbconvert_exporter": "python",
   "pygments_lexer": "ipython3",
   "version": "3.9.12"
  }
 },
 "nbformat": 4,
 "nbformat_minor": 5
}
