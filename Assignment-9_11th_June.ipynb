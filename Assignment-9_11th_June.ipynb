{
 "cells": [
  {
   "cell_type": "code",
   "execution_count": 3,
   "id": "d64cea54",
   "metadata": {},
   "outputs": [
    {
     "name": "stdout",
     "output_type": "stream",
     "text": [
      "8\n"
     ]
    }
   ],
   "source": [
    "#1.Question:-\n",
    "'''\n",
    "\n",
    "Answer:-\n",
    "        In Python, a lambda function, also known as an anonymous function, is a small, single-expression function that doesn't \n",
    "        require a name. It is defined using the lambda keyword and can be used wherever a regular function is expected.\n",
    "        \n",
    "        \n",
    "        Lambda functions are commonly used in situations where a small, one-time function is needed, such as in sorting, \n",
    "        filtering, or mapping operations, or when passing a function as an argument to another function. They provide a way to \n",
    "        define and use functions inline without the need for a separate function definition using def.\n",
    "\n",
    "\n",
    "'''\n",
    "# Step 1: Start with the `lambda` keyword\n",
    "add_numbers = lambda x, y: x + y\n",
    "\n",
    "# Step 2: Define the arguments (x, y) and use a colon to separate them from the expression\n",
    "\n",
    "# Step 3: Write the expression (x + y) that will be evaluated and returned by the lambda function\n",
    "\n",
    "# The lambda function is now assigned to the variable add_numbers\n",
    "\n",
    "result = add_numbers(3, 5)\n",
    "print(result)\n"
   ]
  },
  {
   "cell_type": "code",
   "execution_count": 2,
   "id": "9acdab58",
   "metadata": {},
   "outputs": [
    {
     "name": "stdout",
     "output_type": "stream",
     "text": [
      "15\n"
     ]
    }
   ],
   "source": [
    "#2. Question\n",
    "\n",
    "\n",
    "'''\n",
    "\n",
    "Answer:-\n",
    "        Yes, a lambda function in Python can have multiple arguments. You can define and use multiple arguments in a \n",
    "        lambda function by separating them with commas within the argument list. \n",
    "        Here's the syntax:-\n",
    "        \n",
    "                            lambda argument1, argument2, ... : expression\n",
    "\n",
    "Example:-\n",
    "\n",
    "'''\n",
    "\n",
    "calculate_area = lambda length, width: length * width\n",
    "\n",
    "result = calculate_area(5, 3)\n",
    "print(result)\n"
   ]
  },
  {
   "cell_type": "code",
   "execution_count": 4,
   "id": "7c1b52bf",
   "metadata": {},
   "outputs": [
    {
     "name": "stdout",
     "output_type": "stream",
     "text": [
      "[2, 4, 6, 8, 10]\n"
     ]
    }
   ],
   "source": [
    "#3.Question\n",
    "\n",
    "'''\n",
    "\n",
    "Answer:-\n",
    "         Lambda functions in Python are typically used in situations where a small, anonymous function is needed for a \n",
    "         short period and  doesn't require a separate function definition using def.\n",
    "\n",
    "Example:-\n",
    "\n",
    "'''\n",
    "\n",
    "\n",
    "numbers = [1, 2, 3, 4, 5]\n",
    "\n",
    "doubled_numbers = list(map(lambda x: x * 2, numbers))\n",
    "\n",
    "print(doubled_numbers) \n"
   ]
  },
  {
   "cell_type": "markdown",
   "id": "b315ebfb",
   "metadata": {},
   "source": [
    "4.What are the advantages and limitations of lambda functions compared to regular functions in Python?\n",
    "\n",
    "\n",
    "Advantages of Lambda Functions:\n",
    "\n",
    "Concise: Lambda functions allow you to define simple functions in a compact manner, saving code space.\n",
    "Anonymous: They don't require a specific name, making them useful for one-time or short-lived operations.\n",
    "Function Objects: Lambda functions can be assigned to variables, passed as arguments, or used within data structures.\n",
    "Functional Programming: They are commonly used with higher-order functions for operations like mapping and filtering.\n",
    "\n",
    "\n",
    "\n",
    "\n",
    "Limitations of Lambda Functions:\n",
    "\n",
    "Single Expression: Lambda functions are limited to a single expression and can't have multiple statements or complex logic.\n",
    "No Statements: They cannot contain statements like print or return, only a single expression is evaluated.\n",
    "Limited Functionality: Lambda functions are best for simple tasks and may not handle complex operations.\n",
    "Readability: Overusing complex lambda functions can make code harder to read, so moderation is key."
   ]
  },
  {
   "cell_type": "code",
   "execution_count": 5,
   "id": "a5a13be0",
   "metadata": {},
   "outputs": [
    {
     "name": "stdout",
     "output_type": "stream",
     "text": [
      "15\n"
     ]
    }
   ],
   "source": [
    "#5.Are lambda functions in Python able to access variables defined outside of their own scope? Explain with an example.\n",
    "\n",
    "'''\n",
    "Answer:-\n",
    "\n",
    "          Yes, lambda functions in Python can access variables defined outside of their own scope. They have access to \n",
    "          variables from the surrounding context in which they are defined\n",
    "\n",
    "Example:-\n",
    "\n",
    "'''\n",
    "\n",
    "def outer_function():\n",
    "    x = 10\n",
    "    lambda_func = lambda y: x + y\n",
    "    return lambda_func\n",
    "\n",
    "# Call the outer function and get the lambda function\n",
    "my_lambda = outer_function()\n",
    "\n",
    "# Call the lambda function and pass an argument\n",
    "result = my_lambda(5)\n",
    "print(result)\n"
   ]
  },
  {
   "cell_type": "code",
   "execution_count": 6,
   "id": "badf1532",
   "metadata": {},
   "outputs": [
    {
     "name": "stdout",
     "output_type": "stream",
     "text": [
      "25\n"
     ]
    }
   ],
   "source": [
    "#6. Write a lambda function to calculate the square of a given number.\n",
    "\n",
    "square = lambda x: x * x\n",
    "result = square(5)\n",
    "print(result)\n"
   ]
  },
  {
   "cell_type": "code",
   "execution_count": 7,
   "id": "7a31bf32",
   "metadata": {},
   "outputs": [
    {
     "name": "stdout",
     "output_type": "stream",
     "text": [
      "9\n"
     ]
    }
   ],
   "source": [
    "#7.Create a lambda function to find the maximum value in a list of integers.\n",
    "\n",
    "find_max = lambda lst: max(lst)\n",
    "numbers = [3, 9, 2, 7, 5]\n",
    "result = find_max(numbers)\n",
    "print(result)\n"
   ]
  },
  {
   "cell_type": "code",
   "execution_count": 8,
   "id": "a543c476",
   "metadata": {},
   "outputs": [
    {
     "name": "stdout",
     "output_type": "stream",
     "text": [
      "[2, 4, 6, 8, 10]\n"
     ]
    }
   ],
   "source": [
    "#8.Implement a lambda function to filter out all the even numbers from a list of integers.\n",
    "\n",
    "filter_even = lambda lst: list(filter(lambda x: x % 2 == 0, lst))\n",
    "numbers = [1, 2, 3, 4, 5, 6, 7, 8, 9, 10]\n",
    "result = filter_even(numbers)\n",
    "print(result)\n"
   ]
  },
  {
   "cell_type": "code",
   "execution_count": 10,
   "id": "d009c6ab",
   "metadata": {},
   "outputs": [
    {
     "name": "stdout",
     "output_type": "stream",
     "text": [
      "['date', 'apple', 'berry', 'banana', 'cherry']\n"
     ]
    }
   ],
   "source": [
    "#9.Write a lambda function to sort a list of strings in ascending order based on the length of each string.\n",
    "\n",
    "sort_by_length = lambda lst: sorted(lst, key=lambda x: len(x))\n",
    "strings = [\"apple\", \"banana\", \"cherry\", \"date\", \"berry\"]\n",
    "result = sort_by_length(strings)\n",
    "print(result)\n"
   ]
  },
  {
   "cell_type": "code",
   "execution_count": 11,
   "id": "d0d6cce4",
   "metadata": {},
   "outputs": [
    {
     "name": "stdout",
     "output_type": "stream",
     "text": [
      "[4, 5]\n"
     ]
    }
   ],
   "source": [
    "#10. Create a lambda function that takes two lists as input and returns a new list containing the \n",
    "#common elements between the two lists.\n",
    "\n",
    "find_common_elements = lambda list1, list2: list(filter(lambda x: x in list2, list1))\n",
    "list1 = [1, 2, 3, 4, 5]\n",
    "list2 = [4, 5, 6, 7, 8]\n",
    "result = find_common_elements(list1, list2)\n",
    "print(result)\n",
    "\n"
   ]
  },
  {
   "cell_type": "code",
   "execution_count": 12,
   "id": "f7676a6f",
   "metadata": {},
   "outputs": [
    {
     "name": "stdout",
     "output_type": "stream",
     "text": [
      "120\n"
     ]
    }
   ],
   "source": [
    "#11. Write a recursive function to calculate the factorial of a given positive integer.\n",
    "\n",
    "def factorial(n):\n",
    "    if n == 0:\n",
    "        return 1\n",
    "    else:\n",
    "        return n * factorial(n - 1)\n",
    "\n",
    "    \n",
    "result = factorial(5)\n",
    "print(result)\n"
   ]
  },
  {
   "cell_type": "code",
   "execution_count": 13,
   "id": "951c7ed2",
   "metadata": {},
   "outputs": [
    {
     "name": "stdout",
     "output_type": "stream",
     "text": [
      "8\n"
     ]
    }
   ],
   "source": [
    "#12. Implement a recursive function to compute the nth Fibonacci number.\n",
    "\n",
    "def fibonacci(n):\n",
    "    if n <= 1:\n",
    "        return n\n",
    "    else:\n",
    "        return fibonacci(n - 1) + fibonacci(n - 2)\n",
    "    \n",
    "result = fibonacci(6)\n",
    "print(result)\n"
   ]
  },
  {
   "cell_type": "code",
   "execution_count": 14,
   "id": "11f1a08a",
   "metadata": {},
   "outputs": [
    {
     "name": "stdout",
     "output_type": "stream",
     "text": [
      "15\n"
     ]
    }
   ],
   "source": [
    "#13. Create a recursive function to find the sum of all the elements in a given list.\n",
    "\n",
    "def sum_of_list_elements(lst):\n",
    "    if len(lst) == 0:\n",
    "        return 0\n",
    "    else:\n",
    "        return lst[0] + sum_of_list_elements(lst[1:])\n",
    "\n",
    "    \n",
    "my_list = [1, 2, 3, 4, 5]\n",
    "result = sum_of_list_elements(my_list)\n",
    "print(result)\n"
   ]
  },
  {
   "cell_type": "code",
   "execution_count": 15,
   "id": "c7f17f70",
   "metadata": {},
   "outputs": [
    {
     "name": "stdout",
     "output_type": "stream",
     "text": [
      "True\n",
      "False\n"
     ]
    }
   ],
   "source": [
    "#14. Write a recursive function to determine whether a given string is a palindrome.\n",
    "\n",
    "def is_palindrome(string):\n",
    "    if len(string) <= 1:\n",
    "        return True\n",
    "    elif string[0] != string[-1]:\n",
    "        return False\n",
    "    else:\n",
    "        return is_palindrome(string[1:-1])\n",
    "    \n",
    "    \n",
    "string1 = \"radar\"\n",
    "print(is_palindrome(string1))  \n",
    "\n",
    "string2 = \"hello\"\n",
    "print(is_palindrome(string2))  \n"
   ]
  },
  {
   "cell_type": "code",
   "execution_count": 16,
   "id": "e99dc0db",
   "metadata": {},
   "outputs": [
    {
     "name": "stdout",
     "output_type": "stream",
     "text": [
      "12\n"
     ]
    }
   ],
   "source": [
    "#15.Implement a recursive function to find the greatest common divisor (GCD) of two positive integers.\n",
    "\n",
    "def gcd(a, b):\n",
    "    if b == 0:\n",
    "        return a\n",
    "    else:\n",
    "        return gcd(b, a % b)\n",
    "\n",
    "    \n",
    "result = gcd(24, 36)\n",
    "print(result) \n"
   ]
  },
  {
   "cell_type": "code",
   "execution_count": null,
   "id": "ecac8981",
   "metadata": {},
   "outputs": [],
   "source": []
  }
 ],
 "metadata": {
  "kernelspec": {
   "display_name": "Python 3 (ipykernel)",
   "language": "python",
   "name": "python3"
  },
  "language_info": {
   "codemirror_mode": {
    "name": "ipython",
    "version": 3
   },
   "file_extension": ".py",
   "mimetype": "text/x-python",
   "name": "python",
   "nbconvert_exporter": "python",
   "pygments_lexer": "ipython3",
   "version": "3.9.12"
  }
 },
 "nbformat": 4,
 "nbformat_minor": 5
}
