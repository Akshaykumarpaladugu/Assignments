{
 "cells": [
  {
   "cell_type": "markdown",
   "id": "07af33f0",
   "metadata": {},
   "source": [
    "# Assignment_1"
   ]
  },
  {
   "cell_type": "raw",
   "id": "77686c0f",
   "metadata": {},
   "source": [
    "Question:- \n",
    "\n",
    "1. In the below elements which of them are values or an expression? eg:- values can be\n",
    "integer or string and expressions will be mathematical operators.\n",
    "*\n",
    "'hello'\n",
    "-87.8\n",
    "-\n",
    "/\n",
    "+\n",
    "6\n"
   ]
  },
  {
   "cell_type": "code",
   "execution_count": 1,
   "id": "ba59d78d",
   "metadata": {},
   "outputs": [
    {
     "name": "stdout",
     "output_type": "stream",
     "text": [
      "multiplication operator a and b is: 10\n"
     ]
    }
   ],
   "source": [
    "# multiplication operator *\n",
    "'''\n",
    "This the multiplication operator now lets see an example of this multiplication operator\n",
    "'''\n",
    "\n",
    "a=2\n",
    "b=5\n",
    "c=a*b\n",
    "print(\"multiplication operator a and b is:\",c)"
   ]
  },
  {
   "cell_type": "code",
   "execution_count": 2,
   "id": "ec9768e4",
   "metadata": {},
   "outputs": [
    {
     "name": "stdout",
     "output_type": "stream",
     "text": [
      "<class 'str'>\n"
     ]
    }
   ],
   "source": [
    "# 'hello' this string value\n",
    "'''\n",
    "now lets see this 'hello' string by type fuctions as it gives output string value\n",
    "'''\n",
    "h='hello'\n",
    "print(type(h))"
   ]
  },
  {
   "cell_type": "code",
   "execution_count": 3,
   "id": "df3075bd",
   "metadata": {},
   "outputs": [
    {
     "name": "stdout",
     "output_type": "stream",
     "text": [
      "<class 'float'>\n"
     ]
    }
   ],
   "source": [
    "# now lets go next question give 87.8 value\n",
    "'''\n",
    "this give 87.8 floating-point number now lets check this by type fuction\n",
    "'''\n",
    "v=87.8\n",
    "print(type(v))\n"
   ]
  },
  {
   "cell_type": "code",
   "execution_count": 5,
   "id": "725dc615",
   "metadata": {},
   "outputs": [
    {
     "name": "stdout",
     "output_type": "stream",
     "text": [
      "subtraction of f and j value is: 3\n"
     ]
    }
   ],
   "source": [
    "# subtraction operator \n",
    "'''\n",
    "give is subtraction operator  now lets see this with a example\n",
    "'''\n",
    "\n",
    "f=5\n",
    "j=2\n",
    "l=f-j\n",
    "print(\"subtraction of f and j value is:\",l)"
   ]
  },
  {
   "cell_type": "code",
   "execution_count": 7,
   "id": "c7f5e8b6",
   "metadata": {},
   "outputs": [
    {
     "name": "stdout",
     "output_type": "stream",
     "text": [
      "division operator q and w value is: 5.0\n"
     ]
    }
   ],
   "source": [
    "# division operator\n",
    "'''\n",
    "give is division operator  now lets see this with a example\n",
    "'''\n",
    "q=10\n",
    "w=2\n",
    "k=q/w\n",
    "print(\"division operator q and w value is:\",k)\n"
   ]
  },
  {
   "cell_type": "code",
   "execution_count": 8,
   "id": "dae1cee8",
   "metadata": {},
   "outputs": [
    {
     "name": "stdout",
     "output_type": "stream",
     "text": [
      "addition operator p and g value is: 6\n"
     ]
    }
   ],
   "source": [
    "# addition operator\n",
    "'''\n",
    "give is addition operator  now lets see this with a example\n",
    "'''\n",
    "p=3\n",
    "g=3\n",
    "m=p+g\n",
    "print(\"addition operator p and g value is:\",m)"
   ]
  },
  {
   "cell_type": "code",
   "execution_count": 9,
   "id": "4b71937e",
   "metadata": {},
   "outputs": [
    {
     "name": "stdout",
     "output_type": "stream",
     "text": [
      "<class 'int'>\n"
     ]
    }
   ],
   "source": [
    "# give value number is 6\n",
    "'''\n",
    "Give 6 is integer value\n",
    "'''\n",
    "\n",
    "i=6\n",
    "print(type(i))"
   ]
  },
  {
   "cell_type": "raw",
   "id": "238eec56",
   "metadata": {},
   "source": [
    "2.What is the difference between string and variable?\n",
    "answer:-\n",
    "         String :-\n",
    "                  A string is a data type used to represent a sequence of characters and it respresnted by (\"\") double quotes and single ('') quotes.\n",
    "                  example:- 'Hello world' or \"Hello world\" still both will works no problem \n",
    "                  \n",
    "           \n",
    "         Variable:-  \n",
    "                     variable is also know for container which stores the value computer memory and it holds different types \n",
    "                     of values by assigning value to a variable we can call that value by a fixed varaiable name n number\n",
    "                     of times in program\n",
    "                     Example:- a=5  #As we have give 5 value to a so this a variable is stored 5 value in memory  \n",
    "                     \n",
    "                  "
   ]
  },
  {
   "cell_type": "code",
   "execution_count": null,
   "id": "9fb21097",
   "metadata": {},
   "outputs": [],
   "source": [
    "3.Describe three different data types.\n",
    " \n",
    "    Answer:-\n",
    "  \n",
    "                    '''\n",
    "                        1.int:- This (int) is stores only integer datatype values.It will not accept any float or string values \n",
    "                        2.string:-This (str) only stores string values which only denoted by single or doubt quotes \n",
    "                        3.float or boolean:- (float) datatype will only stores pointvalues and no string is allowed to store \n",
    "                                             (boolean) this  A boolean data type represents truth values, either True or False. \n",
    "                                             Booleans are used for logical operations, comparisons, and conditional statements. \n",
    "                     \n",
    "                    '''\n"
   ]
  },
  {
   "cell_type": "raw",
   "id": "4dce1966",
   "metadata": {},
   "source": [
    "4.What is an expression made up of? What do all expressions do?\n",
    "\n",
    "Anwser:-\n",
    "\n",
    "Variables: These are names that represent values. For example, x=5. Variables can hold different types of data, such as numbers or strings.\n",
    "\n",
    "Values: They can be literal values, such as numbers (e.g., 5, 3.14), strings (e.g., 'hello'), or boolean values (True or False).\n",
    "\n",
    "Operators: These are symbols that perform operations on operands to produce a result. Examples of operators include arithmetic operators (+, -, *, /), comparison operators (>, <, ==), and logical operators (and, or, not).\n",
    "\n",
    "Function calls: They involve invoking predefined or user-defined functions to perform specific tasks. Functions take arguments and return a value"
   ]
  },
  {
   "cell_type": "raw",
   "id": "805121e3",
   "metadata": {},
   "source": [
    "5. This assignment statements, like spam = 10. What is the difference between an expression and a statement?\n",
    "\n",
    "  Anwser:-\n",
    "            In the case of an assignment statement like \"spam = 10\", it is a statement because it assigns the value 10 to the             variable \"spam\" but does not evaluate to a value itself. On the other hand, an expression, such as \"5 + 5\", evaluates            to the value 10.\n"
   ]
  },
  {
   "cell_type": "code",
   "execution_count": 11,
   "id": "74c7ba47",
   "metadata": {},
   "outputs": [
    {
     "name": "stdout",
     "output_type": "stream",
     "text": [
      "after adding is : 23\n"
     ]
    }
   ],
   "source": [
    "#6. Question\n",
    "'''\n",
    "After running the following code, what does the variable bacon contain?\n",
    "bacon = 22\n",
    "bacon + 1\n",
    "'''\n",
    "\n",
    "#Answer:-\n",
    "bacon = 22\n",
    "bacon = bacon + 1\n",
    "print(\"after adding is :\",bacon)\n"
   ]
  },
  {
   "cell_type": "code",
   "execution_count": 12,
   "id": "2c83e0cb",
   "metadata": {},
   "outputs": [
    {
     "name": "stdout",
     "output_type": "stream",
     "text": [
      "spamspamspam\n",
      "spamspamspam\n"
     ]
    }
   ],
   "source": [
    "#7.Question\n",
    "'''\n",
    "What should the values of the following two terms be?\n",
    "'spam'+'spamspam'\n",
    "'spam'*3\n",
    "'''\n",
    "\n",
    "#Answer:-\n",
    "\n",
    "result1 = 'spam' + 'spamspam' # Concatenating give two strings with (+) operator\n",
    "print(result1)\n",
    "result2 = 'spam' * 3 # we are multipling the value \n",
    "print(result2)\n"
   ]
  },
  {
   "cell_type": "raw",
   "id": "7610c6ba",
   "metadata": {},
   "source": [
    "8.Why is eggs a valid variable name while 100 is invalid?\n",
    "\n",
    "Answer:- conditions applied for variable \n",
    "            first we need to check give name for variable for declartion of variables we have some rules to follow \n",
    "            \n",
    "            \n",
    " give question according to variable rules:-\n",
    "                                             variable can only start with letters (a-z, A-Z) as Variable names cannot \n",
    "                                             start with a digit In the case  question \"eggs\", it follows the rules for variable names because it starts with a letter and consists of letters only. However, \"100\" does not meet the the variable rules"
   ]
  },
  {
   "cell_type": "code",
   "execution_count": 16,
   "id": "e6394bb9",
   "metadata": {},
   "outputs": [
    {
     "name": "stdout",
     "output_type": "stream",
     "text": [
      "integer value is: 42\n",
      "float value is: 42.0\n",
      "string value is: 42\n"
     ]
    }
   ],
   "source": [
    "#9. Questions\n",
    "'''\n",
    "What three functions can be used to get the integer, floating-point number, or string\n",
    "version of a value?\n",
    "\n",
    "'''\n",
    "#Answer:-\n",
    "\n",
    "values = 42\n",
    "integer_value = int(values)\n",
    "float_value = float(values)\n",
    "string_value = str(values)\n",
    "\n",
    "print(\"integer value is:\",integer_value)  \n",
    "print(\"float value is:\",float_value)   \n",
    "print(\"string value is:\",string_value)   \n",
    "\n"
   ]
  },
  {
   "cell_type": "code",
   "execution_count": 22,
   "id": "e70a2a99",
   "metadata": {},
   "outputs": [
    {
     "name": "stdout",
     "output_type": "stream",
     "text": [
      "i have eaten99burritos.\n"
     ]
    }
   ],
   "source": [
    "# 10. Why does this expression cause an error? How can you fix it?\n",
    "#'i have eaten'+99+'burritos.'\n",
    "\n",
    "k='i have eaten'\n",
    "z=str(99)\n",
    "x='burritos.'\n",
    "j=k+z+x\n",
    "print(j)"
   ]
  },
  {
   "cell_type": "code",
   "execution_count": null,
   "id": "03bcc23f",
   "metadata": {},
   "outputs": [],
   "source": []
  }
 ],
 "metadata": {
  "kernelspec": {
   "display_name": "Python 3 (ipykernel)",
   "language": "python",
   "name": "python3"
  },
  "language_info": {
   "codemirror_mode": {
    "name": "ipython",
    "version": 3
   },
   "file_extension": ".py",
   "mimetype": "text/x-python",
   "name": "python",
   "nbconvert_exporter": "python",
   "pygments_lexer": "ipython3",
   "version": "3.9.12"
  }
 },
 "nbformat": 4,
 "nbformat_minor": 5
}
