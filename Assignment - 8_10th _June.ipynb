{
 "cells": [
  {
   "cell_type": "code",
   "execution_count": 10,
   "id": "bc1b7b1b",
   "metadata": {},
   "outputs": [
    {
     "name": "stdout",
     "output_type": "stream",
     "text": [
      "Built-in fuction string len is:12\n",
      "By using User-define fuction Result is: 5\n"
     ]
    }
   ],
   "source": [
    "'''\n",
    "1.Example: The len() function is a built-in function that returns the length of an object. It can be used to get the number \n",
    "  of elements in a string, list, tuple, or any other iterable object. Here's an example:\n",
    "'''\n",
    "\n",
    "string=\"Akshay Kumar\"\n",
    "length=len(string)\n",
    "print(f\"Built-in fuction string len is:{length}\")\n",
    "\n",
    "'''\n",
    "1.b) A user-defined function is created by a Python programmer to perform a specific task or set of tasks. \n",
    "     These functions are defined using the def keyword and can be customized to suit specific requirements\n",
    "\n",
    "'''\n",
    "\n",
    "def add_numbers(a, b):\n",
    "    c=a+b\n",
    "    return c\n",
    "\n",
    "z=add_numbers(2,3)\n",
    "print(f\"By using User-define fuction Result is: {z}\")\n",
    "\n",
    "\n"
   ]
  },
  {
   "cell_type": "code",
   "execution_count": 16,
   "id": "6e767ae6",
   "metadata": {},
   "outputs": [
    {
     "name": "stdout",
     "output_type": "stream",
     "text": [
      "Using Positional Arguments is:\n",
      "Hello, Akshay kumar\n",
      "You are 21 years old.\n",
      "-----------------------------------------------------------------------------------------------------------------------\n",
      "using Keyword Arguments is:\n",
      "Hello, Ak\n",
      "You are 21 years old.\n"
     ]
    }
   ],
   "source": [
    "'''\n",
    "2.Positional Arguments:\n",
    "                      Positional arguments are passed to a function based on their position or order. The function's definition \n",
    "                      specifies the number and order of positional arguments it expects, and you must provide values for these \n",
    "                      arguments in the same order when calling the function.\n",
    "\n",
    "Example:\n",
    "'''\n",
    "\n",
    "def greet(name, age):\n",
    "    print(\"Hello,\", name)\n",
    "    print(\"You are\", age, \"years old.\")\n",
    "    \n",
    "print(\"Using Positional Arguments is:\")\n",
    "\n",
    "greet(\"Akshay kumar\", 21)\n",
    "\n",
    "print(\"-----------------------------------------------------------------------------------------------------------------------\")\n",
    "\n",
    "'''\n",
    "2.b)\n",
    "Keyword Arguments:\n",
    "                    Keyword arguments are passed to a function using the argument names, followed by the corresponding values. \n",
    "                    With keyword arguments, the order of the arguments does not matter, as long as you explicitly mention the \n",
    "                    argument names.\n",
    "                    \n",
    "Example:\n",
    "\n",
    "'''\n",
    "def greet(name, age):\n",
    "    print(\"Hello,\", name)\n",
    "    print(\"You are\", age, \"years old.\")\n",
    "    \n",
    "    \n",
    "    \n",
    "    \n",
    "print(\"using Keyword Arguments is:\")\n",
    "\n",
    "greet(age=21, name=\"Ak\")\n",
    "\n",
    "\n"
   ]
  },
  {
   "cell_type": "code",
   "execution_count": 18,
   "id": "6efa6199",
   "metadata": {},
   "outputs": [
    {
     "name": "stdout",
     "output_type": "stream",
     "text": [
      "10\n",
      "7\n",
      "The numbers are equal\n"
     ]
    }
   ],
   "source": [
    "'''\n",
    "3.\n",
    "\n",
    "\n",
    "The purpose of the return statement in a function is to specify the value or values that the function \n",
    "should produce as its output. When a return statement is encountered in a function, the function execution is \n",
    "immediately terminated, and the specified value or values are passed back to the caller.\n",
    "A function can indeed have multiple return statements, but only one return statement is executed during the execution \n",
    "of the function. When a return statement is reached, the function exits, and the specified value is returned. This means \n",
    "\n",
    "that any code after the executed return statement is not executed.\n",
    "\n",
    "'''\n",
    "\n",
    "\n",
    "def get_maximum(a, b):\n",
    "    if a > b:\n",
    "        return a\n",
    "    elif b > a:\n",
    "        return b\n",
    "    else:\n",
    "        return \"The numbers are equal\"\n",
    "\n",
    "result1 = get_maximum(5, 10)\n",
    "print(result1) \n",
    "\n",
    "result2 = get_maximum(7, 3)\n",
    "print(result2)\n",
    "\n",
    "result3 = get_maximum(4, 4)\n",
    "print(result3)\n",
    "\n"
   ]
  },
  {
   "cell_type": "code",
   "execution_count": 19,
   "id": "30373ad9",
   "metadata": {},
   "outputs": [
    {
     "name": "stdout",
     "output_type": "stream",
     "text": [
      "[2, 4, 6, 8, 10]\n"
     ]
    }
   ],
   "source": [
    "'''\n",
    "4. What are lambda functions in Python? How are they different from regular functions? Provide an\n",
    "   example where a lambda function can be useful.\n",
    "   \n",
    "   \n",
    "Answer:-\n",
    "\n",
    "        Lambda functions, also known as anonymous functions, are small and anonymous functions in Python that can be defined \n",
    "        without a name. They are typically used for simple, one-line expressionsor operations and are created using the lambda \n",
    "        keyword.\n",
    "        \n",
    "        \n",
    "        A common use case for lambda functions is in conjunction with higher-order functions such as map(), filter(), and \n",
    "        reduce(). These functions take other functions as \n",
    "\n",
    "Example:-\n",
    "\n",
    "'''\n",
    "\n",
    "numbers = [1, 2, 3, 4, 5, 6, 7, 8, 9, 10]\n",
    "filtered_numbers = list(filter(lambda x: x % 2 == 0, numbers))\n",
    "print(filtered_numbers)\n"
   ]
  },
  {
   "cell_type": "code",
   "execution_count": 31,
   "id": "1b806a7e",
   "metadata": {},
   "outputs": [
    {
     "name": "stdout",
     "output_type": "stream",
     "text": [
      "10\n"
     ]
    },
    {
     "ename": "NameError",
     "evalue": "name 'y' is not defined",
     "output_type": "error",
     "traceback": [
      "\u001b[1;31m---------------------------------------------------------------------------\u001b[0m",
      "\u001b[1;31mNameError\u001b[0m                                 Traceback (most recent call last)",
      "Input \u001b[1;32mIn [31]\u001b[0m, in \u001b[0;36m<cell line: 25>\u001b[1;34m()\u001b[0m\n\u001b[0;32m     22\u001b[0m     \u001b[38;5;28mprint\u001b[39m(x)\n\u001b[0;32m     24\u001b[0m my_function()  \u001b[38;5;66;03m# Output: 10\u001b[39;00m\n\u001b[1;32m---> 25\u001b[0m \u001b[38;5;28mprint\u001b[39m(\u001b[43my\u001b[49m)\n",
      "\u001b[1;31mNameError\u001b[0m: name 'y' is not defined"
     ]
    }
   ],
   "source": [
    "'''\n",
    "5. How does the concept of \"scope\" apply to functions in Python? Explain the difference between local\n",
    "   scope and global scope.\n",
    "   \n",
    "   \n",
    "   \n",
    "Answer:-\n",
    "        Local Scope:-\n",
    "                    Local scope refers to the region within a function where variables are defined. Variables defined within a \n",
    "                    function have local scope, which means they are only accessible within that function. Local variables are \n",
    "                    not accessible outside the function, and they are destroyed once the function completes its execution.\n",
    "\n",
    "\n",
    "Example:-\n",
    "\n",
    "'''\n",
    "\n",
    "\n",
    "def my_function():\n",
    "    x = 10\n",
    "    y=30   # Local variable\n",
    "    print(x)\n",
    "\n",
    "my_function()  # Output: 10\n",
    "print(y)  # Error: NameError: name 'x' is not defined\n",
    "\n"
   ]
  },
  {
   "cell_type": "code",
   "execution_count": 21,
   "id": "83a314d9",
   "metadata": {},
   "outputs": [
    {
     "name": "stdout",
     "output_type": "stream",
     "text": [
      "10\n",
      "10\n"
     ]
    }
   ],
   "source": [
    "'''\n",
    "Global Scope:-\n",
    "                Global scope refers to the top-level region of a Python script or module. Variables defined outside of \n",
    "                any function or at the module level have global scope. They can be accessed from anywhere within the module, \n",
    "                including all the functions defined in that module.\n",
    "\n",
    "\n",
    "\n",
    "\n",
    "Example:-\n",
    "\n",
    "'''\n",
    "\n",
    "\n",
    "x = 10  # Global variable\n",
    "\n",
    "def my_function():\n",
    "    print(x)\n",
    "\n",
    "my_function()  # Output: 10\n",
    "print(x)  # Output: 10\n"
   ]
  },
  {
   "cell_type": "code",
   "execution_count": 35,
   "id": "a9278cdd",
   "metadata": {},
   "outputs": [
    {
     "name": "stdout",
     "output_type": "stream",
     "text": [
      "Sum: 8\n",
      "Product: 15\n",
      "-------------------------------------------Another example OR----------------------------------------------------------\n",
      "Name: Ak\n",
      "Age: 21\n",
      "City: Hyderabad\n"
     ]
    }
   ],
   "source": [
    "#6. Question\n",
    "\n",
    "\n",
    "def calculate_sum_and_product(a, b):\n",
    "    sum_result = a + b\n",
    "    product_result = a * b\n",
    "    return sum_result, product_result\n",
    "\n",
    "# Call the function and store the returned values\n",
    "sum_result, product_result = calculate_sum_and_product(3, 5)\n",
    "\n",
    "# Print the returned values\n",
    "print(\"Sum:\", sum_result)          \n",
    "print(\"Product:\", product_result) \n",
    "\n",
    "\n",
    "\n",
    "\n",
    "print(\"-------------------------------------------Another example OR----------------------------------------------------------\")\n",
    "\n",
    "\n",
    "def get_personal_info():\n",
    "    name = \"Ak\"\n",
    "    age = 21\n",
    "    city = \"Hyderabad\"\n",
    "    return name, age, city\n",
    "\n",
    "# Call the function and store the returned values\n",
    "name, age, city = get_personal_info()\n",
    "\n",
    "# Print the returned values\n",
    "print(\"Name:\", name)    \n",
    "print(\"Age:\", age)     \n",
    "print(\"City:\", city)    \n",
    "\n"
   ]
  },
  {
   "cell_type": "raw",
   "id": "69b996d9",
   "metadata": {},
   "source": [
    "\n",
    "7. What is the difference between the \"pass by value\" and \"pass by reference\" concepts when it\n",
    "   comes to function arguments in Python?\n",
    "   \n",
    "   \n",
    "Answer:-\n",
    "\n",
    "Pass by Value:-\n",
    "                In languages that strictly follow \"pass by value\" behavior, a copy of the value of the variable is passed to \n",
    "                the function. Any modifications made to the parameter within the function do not affect the original variable \n",
    "                outside the function.\n",
    "\n",
    "Pass by Reference:-\n",
    "                    In languages that strictly follow \"pass by reference\" behavior, a reference or pointer to the variable is \n",
    "                    passed to the function. Any modifications made to the parameter within the function affect the original \n",
    "                    variable outside the function.\n"
   ]
  },
  {
   "cell_type": "code",
   "execution_count": 38,
   "id": "752b127c",
   "metadata": {},
   "outputs": [
    {
     "name": "stdout",
     "output_type": "stream",
     "text": [
      "Logarithmic result: 0.9162907318741551\n",
      "Exponential result: 12.182493960703473\n",
      "Power result: 5.656854249492381\n",
      "Square root result: 1.5811388300841898\n"
     ]
    }
   ],
   "source": [
    "#8 Question\n",
    "\n",
    "#Answer:-\n",
    "\n",
    "import math\n",
    "\n",
    "def perform_operations(num):\n",
    "    logarithmic_result = math.log(num)\n",
    "    exponential_result = math.exp(num)\n",
    "    power_result = math.pow(2, num)\n",
    "    square_root_result = math.sqrt(num)\n",
    "    \n",
    "    return logarithmic_result, exponential_result, power_result, square_root_result\n",
    "\n",
    "# Example usage\n",
    "result = perform_operations(2.5)\n",
    "print(\"Logarithmic result:\", result[0])\n",
    "print(\"Exponential result:\", result[1])\n",
    "print(\"Power result:\", result[2])\n",
    "print(\"Square root result:\", result[3])\n"
   ]
  },
  {
   "cell_type": "code",
   "execution_count": 50,
   "id": "2343502a",
   "metadata": {},
   "outputs": [
    {
     "name": "stdout",
     "output_type": "stream",
     "text": [
      "First Name: Akshay\n",
      "Last Name: Kumar\n"
     ]
    }
   ],
   "source": [
    "#9 . Question\n",
    "\n",
    "\n",
    "#Answer:-\n",
    "\n",
    "def split_name(full_name):\n",
    "    names = full_name.split()\n",
    "    first_name = names[0]\n",
    "    last_name = names[-1]\n",
    "    return first_name, last_name\n",
    "\n",
    "\n",
    "\n",
    "\n",
    "name = \"Akshay Kumar\"\n",
    "first, last = split_name(name)\n",
    "print(\"First Name:\", first)\n",
    "print(\"Last Name:\", last)\n"
   ]
  },
  {
   "cell_type": "code",
   "execution_count": null,
   "id": "d5778b12",
   "metadata": {},
   "outputs": [],
   "source": []
  }
 ],
 "metadata": {
  "kernelspec": {
   "display_name": "Python 3 (ipykernel)",
   "language": "python",
   "name": "python3"
  },
  "language_info": {
   "codemirror_mode": {
    "name": "ipython",
    "version": 3
   },
   "file_extension": ".py",
   "mimetype": "text/x-python",
   "name": "python",
   "nbconvert_exporter": "python",
   "pygments_lexer": "ipython3",
   "version": "3.9.12"
  }
 },
 "nbformat": 4,
 "nbformat_minor": 5
}
