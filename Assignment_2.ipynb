{
 "cells": [
  {
   "cell_type": "markdown",
   "id": "82578112",
   "metadata": {},
   "source": [
    "# Assignment-2"
   ]
  },
  {
   "cell_type": "code",
   "execution_count": 5,
   "id": "d34a2bf3",
   "metadata": {},
   "outputs": [
    {
     "name": "stdout",
     "output_type": "stream",
     "text": [
      "checking boolean for num: True\n",
      "<class 'bool'>\n",
      "True\n",
      "False\n",
      "False\n"
     ]
    }
   ],
   "source": [
    "# 1.What are the two values of the Boolean data type? How do you write them?\n",
    "\n",
    "#Answer:-\n",
    "\n",
    "'''\n",
    "    Boolean data type represents logical values that can have one of two possible values: True or False. \n",
    "    hese values are used to evaluate conditions and control the flow of a program.\n",
    "'''\n",
    "    \n",
    "# Checking if a number is even\n",
    "num = 6\n",
    "\n",
    "if num % 2 == 0:\n",
    "    even = True\n",
    "else:\n",
    "    even = False\n",
    "\n",
    "print(\"checking boolean for num:\",even) \n",
    "print(type(even))\n",
    "\n",
    "\n",
    "\n",
    "#Another example is \n",
    "print(10 > 9)\n",
    "print(10 == 9)\n",
    "print(10 < 9)\n",
    "\n"
   ]
  },
  {
   "cell_type": "code",
   "execution_count": 2,
   "id": "37bd8f99",
   "metadata": {},
   "outputs": [
    {
     "name": "stdout",
     "output_type": "stream",
     "text": [
      "Both x and y are positive.\n",
      "Both x and y are non-negative.\n",
      "It's not sunny today.\n"
     ]
    }
   ],
   "source": [
    "# 2. What are the three different types of Boolean operators?\n",
    "\n",
    "#Answer:-\n",
    "\n",
    "'''\n",
    "The three Boolean Operators are:-\n",
    "1.AND:-\n",
    "        AND Operator: The AND operator returns True if both operands are True and otherwise False \n",
    "2.OR:-\n",
    "       OR Operator: The OR operator returns True if at least one of the operands is True, and False if both operands are False\n",
    "\n",
    "3.NOT:-\n",
    "       NOT Operator:  If the expression is True, the NOT operator makes it False. Similarly, if the expression is False, the \n",
    "       NOT operator makes it True\n",
    "'''\n",
    "#Example:-\n",
    "\n",
    "x = 5\n",
    "y = 10\n",
    "sunny = False\n",
    "\n",
    "if x > 0 and y > 0:\n",
    "    print(\"Both x and y are positive.\")\n",
    "else:\n",
    "    print(\"At least one of x and y is not positive.\")\n",
    "\n",
    "if x < 0 or y < 0:\n",
    "    print(\"At least one of x and y is negative.\")\n",
    "else:\n",
    "    print(\"Both x and y are non-negative.\")\n",
    "\n",
    "if not sunny:\n",
    "    print(\"It's not sunny today.\")\n",
    "else:\n",
    "    print(\"It's sunny today.\")\n"
   ]
  },
  {
   "cell_type": "raw",
   "id": "3484545e",
   "metadata": {},
   "source": [
    "3.Make a list of each Boolean operator's truth tables (i.e. every possible combination of Boolean\n",
    "values for the operator and what it evaluate ).\n",
    "\n",
    "\n",
    "\n",
    "Answer:-\n",
    "\n",
    "True and True is True.\n",
    "\n",
    "True and False is False.\n",
    "\n",
    "False and True is False.\n",
    "\n",
    "False and False is False.\n",
    "\n",
    "True or True is True.\n",
    "\n",
    "True or False is True.\n",
    "\n",
    "False or True is True.\n",
    "\n",
    "False or False is False.\n",
    "\n",
    "not True is False.\n",
    "\n",
    "not False is True.\n",
    "\n",
    "\n",
    "-->True is 1 and False is 0\n",
    "\n",
    "\n",
    "Truth Table for AND\n",
    "A  B  output\n",
    "0  0   0\n",
    "0  1   0\n",
    "1  0   0\n",
    "1  1   1\n",
    "\n",
    "\n",
    "-->Truth Table for OR\n",
    "A  B  output\n",
    "0  0   0\n",
    "0  1   1\n",
    "1  0   1\n",
    "1  1   1\n",
    "\n",
    "\n",
    "-->Truth Table for NOT\n",
    "A  output\n",
    "0  1\n",
    "1  0"
   ]
  },
  {
   "cell_type": "code",
   "execution_count": 3,
   "id": "8d16c28b",
   "metadata": {},
   "outputs": [
    {
     "name": "stdout",
     "output_type": "stream",
     "text": [
      "False\n",
      "False\n",
      "True\n",
      "False\n",
      "False\n",
      "True\n"
     ]
    }
   ],
   "source": [
    "#4.What are the values of the following expressions?\n",
    "'''\n",
    "(5 > 4) and (3 == 5)\n",
    "not (5 > 4)\n",
    "(5 > 4) or (3 == 5)\n",
    "not ((5 > 4) or (3 == 5))\n",
    "(True and True) and (True == False)\n",
    "(not False) or (not True)\n",
    "\n",
    "'''\n",
    "\n",
    "\n",
    "\n",
    "print((5>4) and (3==5))\n",
    "print(not(5>4))\n",
    "print((5>4) or (3==5))\n",
    "print(not(5>4) or (3==5))\n",
    "print((True and True) and (True==False))\n",
    "print((not(False))or(not(True)))"
   ]
  },
  {
   "cell_type": "code",
   "execution_count": 6,
   "id": "29347bda",
   "metadata": {},
   "outputs": [
    {
     "name": "stdout",
     "output_type": "stream",
     "text": [
      "Equal to is: False\n",
      "Not equal to is: True\n",
      "Greater than is: False\n",
      "Less than is: True\n",
      "Greater than or equal to is: False\n",
      "Less than or equal to is: True\n"
     ]
    }
   ],
   "source": [
    "#5.What are the six comparison operators?\n",
    "'''\n",
    "Answer:-\n",
    "\n",
    "    ==, !=, <, >, <=, and >=\n",
    "    \n",
    "    Lets see with example:-\n",
    "'''\n",
    "a = 5\n",
    "b = 10\n",
    "\n",
    "v= a==b\n",
    "c= a != b\n",
    "h= a > b\n",
    "l= a < b\n",
    "d=a >= b\n",
    "o=a <= b\n",
    "\n",
    "print(\"Equal to is:\",v)\n",
    "print(\"Not equal to is:\",c) \n",
    "print(\"Greater than is:\",h) \n",
    "print(\"Less than is:\",l)  \n",
    "print(\"Greater than or equal to is:\",d) \n",
    "print(\"Less than or equal to is:\",o) \n"
   ]
  },
  {
   "cell_type": "code",
   "execution_count": 7,
   "id": "a6257fe0",
   "metadata": {},
   "outputs": [
    {
     "name": "stdout",
     "output_type": "stream",
     "text": [
      "x and y are not equal.\n"
     ]
    }
   ],
   "source": [
    "#6.How do you tell the difference between the equal to and assignment operators?Describe a condition and when you would use one.\n",
    "\n",
    "#Answer:-\n",
    "\n",
    "x = 5  # Assignment operator: Assigns the value 5 to the variable x\n",
    "y = 10  # Assignment operator: Assigns the value 10 to the variable y\n",
    "\n",
    "# Equal to operator: Compares the values of x and y\n",
    "if x == y:\n",
    "    print(\"x and y are equal.\")\n",
    "else:\n",
    "    print(\"x and y are not equal.\")\n"
   ]
  },
  {
   "cell_type": "code",
   "execution_count": 8,
   "id": "62798700",
   "metadata": {},
   "outputs": [
    {
     "name": "stdout",
     "output_type": "stream",
     "text": [
      "ham\n",
      "spam\n",
      "spam\n"
     ]
    }
   ],
   "source": [
    "#7.Identify the three blocks in this code:\n",
    "'''\n",
    "spam = 0\n",
    "if spam == 10:\n",
    "print('eggs')\n",
    "if spam > 5:\n",
    "print('bacon')\n",
    "else:\n",
    "print('ham')\n",
    "print('spam')\n",
    "print('spam')\n",
    "'''\n",
    "\n",
    "spam = 0\n",
    "if spam == 10:\n",
    "    print('eggs') #Block 1\n",
    "if spam > 5:\n",
    "    print('bacon') #Block 2\n",
    "else:\n",
    "    print('ham') #Block 3\n",
    "    print('spam')\n",
    "    print('spam')"
   ]
  },
  {
   "cell_type": "code",
   "execution_count": 10,
   "id": "63b5e431",
   "metadata": {},
   "outputs": [
    {
     "name": "stdout",
     "output_type": "stream",
     "text": [
      "Enter the input number:3\n",
      "Greetings!\n"
     ]
    }
   ],
   "source": [
    "# 8. Question\n",
    "'''Write code that prints Hello if 1 is stored in spam, prints Howdy if 2 is stored in spam, and prints\n",
    "Greetings! if anything else is stored in spam.'''\n",
    "\n",
    "#Answer:-\n",
    "\n",
    "spam = int(input(\"Enter the input number:\")) #taking input from user needed according to given question\n",
    "if spam == 1:\n",
    "    print(\"Hello\")\n",
    "elif spam == 2:\n",
    "    print(\"Howdy\")\n",
    "else:\n",
    "    print(\"Greetings!\")"
   ]
  },
  {
   "cell_type": "raw",
   "id": "8c0a42e9",
   "metadata": {},
   "source": [
    "9.If your programme is stuck in an endless loop, what keys you’ll press?\n",
    "\n",
    "Answer:-\n",
    "          If program is stuck in endless loop we can press ctrl+c.\n",
    "\n"
   ]
  },
  {
   "cell_type": "code",
   "execution_count": 11,
   "id": "5264f7c7",
   "metadata": {},
   "outputs": [
    {
     "name": "stdout",
     "output_type": "stream",
     "text": [
      "0\n",
      "1\n",
      "2\n",
      "3\n",
      "4\n",
      "5\n",
      "6\n",
      "Breaked\n",
      "0\n",
      "1\n",
      "2\n",
      "3\n",
      "4\n",
      "5\n",
      "6\n",
      "8\n",
      "9\n"
     ]
    }
   ],
   "source": [
    "#10.How can you tell the difference between break and continue?\n",
    "'''\n",
    "Break:-\n",
    "         Break is like an exiting sign. When you come cross break in a loop, it allows you to immediately leave the \n",
    "         loop and continue with the rest of the program outside of the loop.\n",
    "         \n",
    "Continue:-\n",
    "          It allows you to ignore specific parts of the loop and continue with the next iteration.\n",
    "          \n",
    "            (or)\n",
    "            \n",
    "            So, in simple terms, break lets you exit the loop completely, while continue lets you skip a specific part \n",
    "            of the loop and move to the next iteration.\n",
    "'''\n",
    "# use of break\n",
    "for i in range(10):\n",
    "    if(i==7):\n",
    "        break\n",
    "    print(i)\n",
    "    \n",
    "print('Breaked')\n",
    " \n",
    "    \n",
    "#use of  continue\n",
    "for i in range(10):\n",
    "    if(i==7):\n",
    "        continue\n",
    "    print(i)"
   ]
  },
  {
   "cell_type": "code",
   "execution_count": 12,
   "id": "d74b0eda",
   "metadata": {},
   "outputs": [
    {
     "name": "stdout",
     "output_type": "stream",
     "text": [
      "Using range(10):\n",
      "0\n",
      "1\n",
      "2\n",
      "3\n",
      "4\n",
      "5\n",
      "6\n",
      "7\n",
      "8\n",
      "9\n",
      "Using range(0, 10):\n",
      "0\n",
      "1\n",
      "2\n",
      "3\n",
      "4\n",
      "5\n",
      "6\n",
      "7\n",
      "8\n",
      "9\n",
      "Using range(0, 10, 1):\n",
      "0\n",
      "1\n",
      "2\n",
      "3\n",
      "4\n",
      "5\n",
      "6\n",
      "7\n",
      "8\n",
      "9\n"
     ]
    }
   ],
   "source": [
    "#11.In a for loop, what is the difference between range(10), range(0, 10), and range(0, 10, 1)?\n",
    "\n",
    "'''\n",
    "range(10):- \n",
    "                It generates a sequence of numbers starting from 0 and going up to (but not including) 10. \n",
    "                The default increment between each number is 1. In simple terms, it gives you numbers from 0 to 9.\n",
    "\n",
    "range(0, 10):- \n",
    "\n",
    "                It does the same as range(10). The only difference is that here you explicitly specify the starting \n",
    "                point as 0. It still generates numbers from 0 to 9 with an increment of 1.\n",
    "\n",
    "range(0, 10, 1):-\n",
    "                    This is also similar to the previous two examples. It generates numbers from 0 to 9 with an increment of 1.\n",
    "                    Here, you explicitly mention the starting point as 0 and the increment as 1.\n",
    "'''\n",
    "\n",
    "\n",
    "\n",
    "\n",
    "# range(10)\n",
    "print(\"Using range(10):\")\n",
    "for i in range(10):\n",
    "    print(i)\n",
    "\n",
    "# range(0, 10)\n",
    "print(\"Using range(0, 10):\")\n",
    "for i in range(0, 10):\n",
    "    print(i)\n",
    "\n",
    "# range(0, 10, 1)\n",
    "print(\"Using range(0, 10, 1):\")\n",
    "for i in range(0, 10, 1):\n",
    "    print(i)\n"
   ]
  },
  {
   "cell_type": "raw",
   "id": "1d48d7b4",
   "metadata": {},
   "source": [
    "12. Write a short program that prints the numbers 1 to 10 using a for loop. Then write an equivalent\n",
    "    program that prints the numbers 1 to 10 using a while loop."
   ]
  },
  {
   "cell_type": "code",
   "execution_count": 14,
   "id": "bf98e1d6",
   "metadata": {},
   "outputs": [
    {
     "name": "stdout",
     "output_type": "stream",
     "text": [
      "using For Loop:\n",
      "1\n",
      "2\n",
      "3\n",
      "4\n",
      "5\n",
      "6\n",
      "7\n",
      "8\n",
      "9\n",
      "10\n",
      "\n",
      " using While Loop:\n",
      "1\n",
      "2\n",
      "3\n",
      "4\n",
      "5\n",
      "6\n",
      "7\n",
      "8\n",
      "9\n",
      "10\n"
     ]
    }
   ],
   "source": [
    "#answer:- \n",
    "\n",
    "print(\"using For Loop:\")\n",
    "for i in range(1,11):\n",
    "    print(i)\n",
    "    \n",
    "    \n",
    "#Use of While Loop\n",
    "print(\"\\n using While Loop:\")\n",
    "a =1\n",
    "while a <= 10:\n",
    "    print(a)\n",
    "    a+=1"
   ]
  },
  {
   "cell_type": "raw",
   "id": "bc1fd4fa",
   "metadata": {},
   "source": [
    "13. If you had a function named bacon() inside a module named spam, how would you call it after\n",
    "importing spam?\n",
    "\n",
    "Answer:-\n",
    "\n",
    "        import spam\n",
    "        spam.bacon()\n",
    "\n",
    "\n"
   ]
  }
 ],
 "metadata": {
  "kernelspec": {
   "display_name": "Python 3 (ipykernel)",
   "language": "python",
   "name": "python3"
  },
  "language_info": {
   "codemirror_mode": {
    "name": "ipython",
    "version": 3
   },
   "file_extension": ".py",
   "mimetype": "text/x-python",
   "name": "python",
   "nbconvert_exporter": "python",
   "pygments_lexer": "ipython3",
   "version": "3.9.12"
  }
 },
 "nbformat": 4,
 "nbformat_minor": 5
}
