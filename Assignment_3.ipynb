{
 "cells": [
  {
   "cell_type": "markdown",
   "id": "5a471266",
   "metadata": {},
   "source": [
    "# Assignment_3"
   ]
  },
  {
   "cell_type": "raw",
   "id": "9b67dc28",
   "metadata": {},
   "source": [
    "1. Why are functions advantageous to have in your programs?\n",
    "\n",
    "Answer:-\n",
    "\n",
    "1.Reuse code without rewriting it, saving time and effort.\n",
    "2.Break down complex tasks into smaller, manageable parts.\n",
    "3.Make your code easier to understand and maintain.\n",
    "4.Hide implementation details, focusing on the task at hand.\n",
    "5.This makes programs shorter, easier to read, and easier to update.\n",
    "\n",
    "\n"
   ]
  },
  {
   "cell_type": "raw",
   "id": "48e734ad",
   "metadata": {},
   "source": [
    "2. When does the code in a function run: when it's specified or when it's called ?\n",
    "\n",
    "Answer:-\n",
    "        Code in the function runs when the function is called.\n",
    "        "
   ]
  },
  {
   "cell_type": "code",
   "execution_count": 1,
   "id": "52f72e5c",
   "metadata": {},
   "outputs": [
    {
     "name": "stdout",
     "output_type": "stream",
     "text": [
      "Hello World\n"
     ]
    }
   ],
   "source": [
    "# Example of fuctions \n",
    "\n",
    "def ak():   # fuction declaration is done\n",
    "    print(\"Hello World\") # message\n",
    "    \n",
    "ak() # fuction call is done\n"
   ]
  },
  {
   "cell_type": "raw",
   "id": "2cefb11c",
   "metadata": {},
   "source": [
    "3. What statement creates a function?\n",
    "\n",
    "Answer:-   \n",
    "\n",
    "            The def statement defines (i.e. creates) a function.\n",
    "       Eg:-\n",
    "           def my_func():\n",
    "                pass  \n",
    "    "
   ]
  },
  {
   "cell_type": "code",
   "execution_count": 4,
   "id": "70065fcb",
   "metadata": {},
   "outputs": [
    {
     "name": "stdout",
     "output_type": "stream",
     "text": [
      "hello\n"
     ]
    }
   ],
   "source": [
    "#4.What is the difference between a function and a function call?\n",
    "\n",
    "#Answer:-\n",
    "'''\n",
    "          A function is the defined task or set of instructions, while a function call is the actual execution or \n",
    "          invocation of that function to perform the task.\n",
    "          \n",
    "        Example:-\n",
    "'''\n",
    "        \n",
    "def ak():           # this fuction creation\n",
    "    print(\"hello\")  # this task to print hello\n",
    "             \n",
    "ak()               #fuction call this will perform task which fuction stored set of instruction or task     "
   ]
  },
  {
   "cell_type": "raw",
   "id": "f32bd3f1",
   "metadata": {},
   "source": [
    "5. How many global scopes are there in a Python program? How many local scopes\n",
    "\n",
    "Answer:- \n",
    "         There's only one global Python scope per program execution. This scope remains in existence until the program       terminates, and a local scope is created whenever a function is called.\n",
    "         \n",
    "         (or)\n",
    "         \n",
    "Global Scope:- The global scope is the outermost scope of a Python program. It represents the area where variables and functions are defined outside of any function or class. Variables defined in the global scope can be accessed from anywhere in the program.\n",
    "\n",
    "\n",
    "Local Scope:- Local scopes are created when functions or control structures like loops or conditional statements are executed.\n",
    "Variables defined within a local scope.\n"
   ]
  },
  {
   "cell_type": "raw",
   "id": "f9083439",
   "metadata": {},
   "source": [
    "6. What happens to variables in a local scope when the function call returns?\n",
    "\n",
    "Answer:-\n",
    "         When a function returns, the local scope is destroyed.\n",
    "         \n",
    "         \n",
    "      Example:-\n",
    "                  def my_function():\n",
    "                            x = 10   # Local variable within the function\n",
    "                            print(x)\n",
    "\n",
    "                   my_function()  # Function call\n",
    "\n",
    "                   print(x)  # this prints error NameError: name 'x' is not defined\n"
   ]
  },
  {
   "cell_type": "code",
   "execution_count": 5,
   "id": "41fa0911",
   "metadata": {},
   "outputs": [
    {
     "name": "stdout",
     "output_type": "stream",
     "text": [
      "result is: 8\n"
     ]
    }
   ],
   "source": [
    "# 7. What is the concept of a return value? Is it possible to have a return value in an expression?\n",
    "\n",
    "'''\n",
    "Answer:-\n",
    "         The concept of a return value refers to the value that a function sends back to the caller after it has been executed.\n",
    "         Yes, it is possible to have a return value in an expression. When a function returns a value, you can use that value \n",
    "         directly in expressions or assign it to a variable. \n",
    "         For example:-\n",
    "         \n",
    "'''       \n",
    "def add(a, b):\n",
    "    return a + b\n",
    "\n",
    "result = add(3, 5)\n",
    "print(\"result is :\",result)  \n"
   ]
  },
  {
   "cell_type": "raw",
   "id": "60da0bab",
   "metadata": {},
   "source": [
    "8.If a function does not have a return statement, what is the return value of a call to that function?\n",
    "\n",
    "Answer:-\n",
    "         If the funtion does not have a return statement it will not return anything.\n"
   ]
  },
  {
   "cell_type": "code",
   "execution_count": 6,
   "id": "78827836",
   "metadata": {},
   "outputs": [
    {
     "name": "stdout",
     "output_type": "stream",
     "text": [
      "10\n",
      "Global variable is: 15\n"
     ]
    }
   ],
   "source": [
    "# 9.How do you make a function variable refer to the global variable?\n",
    "\n",
    "#Answer:-\n",
    "''''\n",
    "         To make function variable as a global variable you can use the global keyword to declare which variables are global.\n",
    "         \n",
    "         \n",
    "       Example:-\n",
    "       \n",
    "'''\n",
    "x = 10  # Global variable\n",
    "def value():\n",
    "    global x  # Declare 'x' as global within the function\n",
    "    x += 5   # Increment the global variable 'x' by 5\n",
    "print(x) \n",
    "value()\n",
    "print(\"Global variable is:\",x)  \n"
   ]
  },
  {
   "cell_type": "code",
   "execution_count": 7,
   "id": "c6dfe34d",
   "metadata": {},
   "outputs": [
    {
     "name": "stdout",
     "output_type": "stream",
     "text": [
      "<class 'NoneType'>\n"
     ]
    }
   ],
   "source": [
    "# 10. What is the data type of None?\n",
    "'''\n",
    "\n",
    "Answer:-\n",
    "            The data type of None is NoneType.\n",
    "            To check the datatype of None use syntax:-\n",
    "            \n",
    "'''\n",
    "                                                       \n",
    "print(type(None)) \n"
   ]
  },
  {
   "cell_type": "raw",
   "id": "cea4d5ac",
   "metadata": {},
   "source": [
    "11.What does the sentence import areallyourpetsnamederic do?\n",
    "\n",
    "Answer:-\n",
    "         That import statement imports a module named areallyourpetsnamederic.(But a module of this name doesnt exists in \n",
    "         Python)."
   ]
  },
  {
   "cell_type": "raw",
   "id": "bdda8082",
   "metadata": {},
   "source": [
    "12. If you had a bacon() feature in a spam module, what would you call it after importing spam?\n",
    "\n",
    "Answer:-\n",
    "         import spam\n",
    "         spam.bacon()"
   ]
  },
  {
   "cell_type": "raw",
   "id": "88664ad0",
   "metadata": {},
   "source": [
    "13. What can you do to save a programme from crashing if it encounters an error?\n",
    "\n",
    "Answer:-\n",
    "         We can use try except clause or blocks to save a program from crashing."
   ]
  },
  {
   "cell_type": "code",
   "execution_count": 8,
   "id": "3b8a0b12",
   "metadata": {},
   "outputs": [
    {
     "name": "stdout",
     "output_type": "stream",
     "text": [
      "Enter a number: 5\n",
      "Result: 2.0\n"
     ]
    }
   ],
   "source": [
    "# 14. What is the purpose of the try clause? What is the purpose of the except clause?\n",
    "\n",
    "'''\n",
    "    Answer:-\n",
    "            Try and Except clause is used to handle the errors within our code . The try block is used to check some code \n",
    "            for errors i.e the code inside the try block will execute when there is no error in the program. Whereas the \n",
    "            code inside the except block will execute whenever the program encounters some error in the try block.\n",
    "            \n",
    "    Syntax:-\n",
    "              try:\n",
    "                  Code\n",
    "              except:\n",
    "                   code \n",
    "                   \n",
    "        Example:-           \n",
    "'''\n",
    "\n",
    "try:\n",
    "    x = int(input(\"Enter a number: \")) \n",
    "    result = 10 / x\n",
    "    print(\"Result:\", result)\n",
    "except:\n",
    "    print(\"Hello pls check your input you have entered string\") # if user enter any string he will be getting this message\n"
   ]
  },
  {
   "cell_type": "code",
   "execution_count": null,
   "id": "a1548cd2",
   "metadata": {},
   "outputs": [],
   "source": []
  }
 ],
 "metadata": {
  "kernelspec": {
   "display_name": "Python 3 (ipykernel)",
   "language": "python",
   "name": "python3"
  },
  "language_info": {
   "codemirror_mode": {
    "name": "ipython",
    "version": 3
   },
   "file_extension": ".py",
   "mimetype": "text/x-python",
   "name": "python",
   "nbconvert_exporter": "python",
   "pygments_lexer": "ipython3",
   "version": "3.9.12"
  }
 },
 "nbformat": 4,
 "nbformat_minor": 5
}
