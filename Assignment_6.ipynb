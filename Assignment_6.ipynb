{
 "cells": [
  {
   "cell_type": "code",
   "execution_count": 5,
   "id": "908c65f6",
   "metadata": {},
   "outputs": [
    {
     "name": "stdout",
     "output_type": "stream",
     "text": [
      "Keywords are: False\n",
      "Keywords are: None\n",
      "Keywords are: True\n",
      "Keywords are: __peg_parser__\n",
      "Keywords are: and\n",
      "Keywords are: as\n",
      "Keywords are: assert\n",
      "Keywords are: async\n",
      "Keywords are: await\n",
      "Keywords are: break\n",
      "Keywords are: class\n",
      "Keywords are: continue\n",
      "Keywords are: def\n",
      "Keywords are: del\n",
      "Keywords are: elif\n",
      "Keywords are: else\n",
      "Keywords are: except\n",
      "Keywords are: finally\n",
      "Keywords are: for\n",
      "Keywords are: from\n",
      "Keywords are: global\n",
      "Keywords are: if\n",
      "Keywords are: import\n",
      "Keywords are: in\n",
      "Keywords are: is\n",
      "Keywords are: lambda\n",
      "Keywords are: nonlocal\n",
      "Keywords are: not\n",
      "Keywords are: or\n",
      "Keywords are: pass\n",
      "Keywords are: raise\n",
      "Keywords are: return\n",
      "Keywords are: try\n",
      "Keywords are: while\n",
      "Keywords are: with\n",
      "Keywords are: yield\n"
     ]
    }
   ],
   "source": [
    "#1.What are keywords in python? Using the keyword library, print all the python keywords.\n",
    "\n",
    "'''\n",
    "    Answer:-\n",
    "            Keywords in Python are reserved words that cannot be used for variables and other purpose\n",
    "            we cannot even change its meaning also at any point of view.\n",
    "\n",
    "'''\n",
    "\n",
    "import keyword\n",
    "\n",
    "a=keyword.kwlist\n",
    "\n",
    "for i in a:\n",
    "    print(\"Keywords are:\",i)"
   ]
  },
  {
   "cell_type": "code",
   "execution_count": 6,
   "id": "abbf517c",
   "metadata": {},
   "outputs": [
    {
     "name": "stdout",
     "output_type": "stream",
     "text": [
      "5\n"
     ]
    }
   ],
   "source": [
    "#2. What are the rules to create variables in python?\n",
    "\n",
    "'''\n",
    "        Anwser:- \n",
    "                variables are also know is containers which stores the value in it.\n",
    "              \n",
    "          -->Rules:-    \n",
    "                \n",
    "                    --> A variable name must start with a letter (a-z, A-Z) or an underscore (_) character. \n",
    "                         It cannot start with a number or any special character. \n",
    "                         \n",
    "                    --> No other special characters, such as spaces or punctuation marks, are allowed in the variable name\n",
    "                    \n",
    "                    --> Variable names are case-sensitive\n",
    "                    \n",
    "                    --> A variable name cannot start with a number\n",
    "                    \n",
    "                    --> A variable name must start with a letter or the underscore character\n",
    "\n",
    "\n",
    "            example:-\n",
    "'''\n",
    "a=5 # declaration of variable\n",
    "print(a)"
   ]
  },
  {
   "cell_type": "markdown",
   "id": "d1b8a8bf",
   "metadata": {},
   "source": [
    "3.What are the standards and conventions followed for the nomenclature of variables in python to \n",
    "  improve code readability and maintainability?\n",
    "  \n",
    "  \n",
    "Answer:-\n",
    "           \n",
    "Use Meaningful names:- \n",
    "                        Choose names that clearly describe the purpose or meaning of the variable.\n",
    "      \n",
    "Lowercase with underscores:- \n",
    "                            Follow the case convention, using lowercase letters with underscores to separate words.\n",
    "\n",
    "Avoid single-character names:- \n",
    "                          Unless widely understood or in specific contexts, prefer descriptive names over single-character ones.\n",
    "\n",
    "Be consistent:-  \n",
    "                 Maintain a consistent naming style throughout your codebase to enhance readability and collaboration.\n",
    "\n",
    "Avoid reserved words:- \n",
    "                       Do not use Python keywords as variable names.\n",
    " \n",
    "Meaningful abbreviations:- \n",
    "                           Use clear and meaningful abbreviations when necessary to keep names concise.\n",
    "\n",
    "Special cases:- \n",
    "               Use all uppercase letters for constants and prefix private variables with an initial underscore."
   ]
  },
  {
   "cell_type": "code",
   "execution_count": 7,
   "id": "722f3603",
   "metadata": {},
   "outputs": [
    {
     "ename": "SyntaxError",
     "evalue": "invalid syntax (988460051.py, line 11)",
     "output_type": "error",
     "traceback": [
      "\u001b[1;36m  Input \u001b[1;32mIn [7]\u001b[1;36m\u001b[0m\n\u001b[1;33m    def=5\u001b[0m\n\u001b[1;37m       ^\u001b[0m\n\u001b[1;31mSyntaxError\u001b[0m\u001b[1;31m:\u001b[0m invalid syntax\n"
     ]
    }
   ],
   "source": [
    "# 4. What will happen if a keyword is used as a variable name?\n",
    "'''\n",
    "\n",
    "        Answer:-\n",
    "                If a keyword is used as a variable name in Python, it will result in a SyntaxError\n",
    "\n",
    "\n",
    "            Example:-\n",
    "'''\n",
    "\n",
    "def=5\n",
    "print(def)"
   ]
  },
  {
   "cell_type": "code",
   "execution_count": 8,
   "id": "5a72af0f",
   "metadata": {},
   "outputs": [
    {
     "name": "stdout",
     "output_type": "stream",
     "text": [
      "hello this def is used to create fuction\n"
     ]
    }
   ],
   "source": [
    "#5.For what purpose def keyword is used?\n",
    "\n",
    "'''\n",
    "\n",
    "    Answer:- \n",
    "            def: This keyword is used to indicate the start of a function definition.\n",
    "\n",
    "\n",
    "        Example:-\n",
    "'''\n",
    "def ak(): #created function with def keyword\n",
    "    print(\"hello this def is used to create fuction\")\n",
    "    \n",
    "ak()"
   ]
  },
  {
   "cell_type": "code",
   "execution_count": 12,
   "id": "6a9b5575",
   "metadata": {},
   "outputs": [
    {
     "name": "stdout",
     "output_type": "stream",
     "text": [
      "Hello world this Robot speed 1byte.\n"
     ]
    }
   ],
   "source": [
    "#6.What is the operation of this special character ‘\\’?\n",
    "\n",
    "'''\n",
    "        Answer:-\n",
    "                The special character \\ in Python is called the backslash or escape character. \n",
    "                \\n -- is used to print in new line\n",
    "\n",
    "          Example:-\n",
    "'''\n",
    "a = \"Hello world this\\\n",
    " Robot speed 1byte.\"\n",
    "print(a)"
   ]
  },
  {
   "cell_type": "code",
   "execution_count": 13,
   "id": "38a68e3c",
   "metadata": {},
   "outputs": [
    {
     "name": "stdout",
     "output_type": "stream",
     "text": [
      "Homogeneous list: [1, 2, 3, 4, 5]\n",
      "Heterogeneous set: {1, 3.14, 'two'}\n",
      "Homogeneous tuple: ('cat', 'bog', 'lion')\n"
     ]
    }
   ],
   "source": [
    "#7. Give an example of the following conditions:\n",
    "#(i) Homogeneous list\n",
    "#(ii) Heterogeneous set\n",
    "#(iii) Homogeneous tuple\n",
    "\n",
    "'''\n",
    "        Answer:- \n",
    "                    (i) Homogeneous list: A homogeneous list consists of elements of the same data type. \n",
    "                                          Here's an example of a homogeneous list of integers.\n",
    "                    \n",
    "                    (ii) Heterogeneous set: A heterogeneous set contains elements of different data types. \n",
    "                                            Here's an example of a heterogeneous set.\n",
    "                                            \n",
    "                    (iii) Homogeneous tuple: A homogeneous tuple consists of elements of the same data type.\n",
    "                                             Here's an example of a homogeneous tuple of strings\n",
    "'''\n",
    "\n",
    "\n",
    "# Homogeneous list\n",
    "homogeneous_list = [1, 2, 3, 4, 5]\n",
    "print(\"Homogeneous list:\", homogeneous_list)\n",
    "\n",
    "# Heterogeneous set\n",
    "heterogeneous_set = {1, 'two', 3.14, True}\n",
    "print(\"Heterogeneous set:\", heterogeneous_set)\n",
    "\n",
    "# Homogeneous tuple\n",
    "homogeneous_tuple = ('cat', 'bog', 'lion')\n",
    "print(\"Homogeneous tuple:\", homogeneous_tuple)\n",
    "\n"
   ]
  },
  {
   "cell_type": "code",
   "execution_count": 14,
   "id": "16924cd4",
   "metadata": {},
   "outputs": [
    {
     "name": "stdout",
     "output_type": "stream",
     "text": [
      "immutable Hello World\n",
      "mutable [1, 2, 3, 4]\n"
     ]
    }
   ],
   "source": [
    "#\n",
    "\n",
    "\n",
    "'''\n",
    "    Answer:-\n",
    "             Immutable data types:\n",
    "\n",
    "                                --> Immutable data types cannot be modified once they are created. \n",
    "                                --> If you need to modify an immutable object, a new object is created with the modified value.\n",
    "                   --> Examples of immutable data types are:- integers, floats, strings, and tuples\n",
    "                   \n",
    "                   \n",
    "              Mutable data types:\n",
    "\n",
    "                               --> Mutable data types can be modified after they are created.\n",
    "                               --> Modifying a mutable object changes its value directly without creating a new object.\n",
    "                      -->Examples of mutable data types are:- lists, sets, and dictionaries     \n",
    "                   \n",
    "'''\n",
    "\n",
    "#Immutable\n",
    "\n",
    "immutable_string = \"Hello\"\n",
    "new_string = immutable_string + \" World\"\n",
    "print(\"immutable\",new_string)\n",
    "\n",
    "\n",
    "# mutable\n",
    "\n",
    "mutable_list = [1, 2, 3]\n",
    "mutable_list.append(4)\n",
    "print(\"mutable\",mutable_list)  \n",
    "\n",
    "\n",
    "\n",
    "\n",
    "\n"
   ]
  },
  {
   "cell_type": "code",
   "execution_count": 15,
   "id": "5a586e7b",
   "metadata": {},
   "outputs": [
    {
     "name": "stdout",
     "output_type": "stream",
     "text": [
      "*\n",
      "**\n",
      "***\n",
      "****\n",
      "*****\n"
     ]
    }
   ],
   "source": [
    "# 9. Write a code to create the given structure using only for loop.\n",
    "'''\n",
    "given:-\n",
    "            *\n",
    "            ***\n",
    "            *****\n",
    "            *******\n",
    "            *********\n",
    "'''\n",
    "\n",
    "rows = 5\n",
    "\n",
    "for i in range(rows):\n",
    "    for _ in range(i + 1):\n",
    "        print(\"*\", end=\"\")\n",
    "    print()\n"
   ]
  },
  {
   "cell_type": "code",
   "execution_count": 16,
   "id": "852e2d8e",
   "metadata": {},
   "outputs": [
    {
     "name": "stdout",
     "output_type": "stream",
     "text": [
      "|||||\n",
      "||||\n",
      "|||\n",
      "||\n",
      "|\n"
     ]
    }
   ],
   "source": [
    "#Q.10. Write a code to create the given structure using while loop.\n",
    "'''\n",
    "\n",
    "\n",
    "given:-\n",
    "        |||||||||\n",
    "        |||||||\n",
    "        |||||\n",
    "        |||\n",
    "        |\n",
    "'''\n",
    "rows = 5\n",
    "\n",
    "while rows >= 1:\n",
    "    print('|' * rows)\n",
    "    rows -= 1\n",
    "\n",
    "\n"
   ]
  },
  {
   "cell_type": "code",
   "execution_count": null,
   "id": "5acbe789",
   "metadata": {},
   "outputs": [],
   "source": []
  }
 ],
 "metadata": {
  "kernelspec": {
   "display_name": "Python 3 (ipykernel)",
   "language": "python",
   "name": "python3"
  },
  "language_info": {
   "codemirror_mode": {
    "name": "ipython",
    "version": 3
   },
   "file_extension": ".py",
   "mimetype": "text/x-python",
   "name": "python",
   "nbconvert_exporter": "python",
   "pygments_lexer": "ipython3",
   "version": "3.9.12"
  }
 },
 "nbformat": 4,
 "nbformat_minor": 5
}
