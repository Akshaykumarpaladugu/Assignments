{
 "cells": [
  {
   "cell_type": "code",
   "execution_count": 3,
   "id": "bb0e709b",
   "metadata": {},
   "outputs": [
    {
     "name": "stdout",
     "output_type": "stream",
     "text": [
      "<class 'list'>\n",
      "<class 'list'>\n",
      "now we are getting values stored in list a is: [1, 2, 'hello']\n",
      "This is empty list stored in list b is: []\n"
     ]
    }
   ],
   "source": [
    "# 1. What exactly is []?\n",
    "'''\n",
    "Answer:-\n",
    "            [ ] is a empty list, like a =[ ]\n",
    "            \n",
    "            and this Also represnent as list [] \n",
    "            \n",
    "            lets see an small example of this list along with type fuction\n",
    "\n",
    "'''\n",
    "\n",
    "a=[1,2,'hello']\n",
    "\n",
    "b=[] #this empty list\n",
    "\n",
    "print(type(a))\n",
    "print(type(b))\n",
    "print(\"now we are getting values stored in list a is:\",a)\n",
    "print(\"This is empty list stored in list b is:\",b)"
   ]
  },
  {
   "cell_type": "code",
   "execution_count": 4,
   "id": "db916cae",
   "metadata": {},
   "outputs": [
    {
     "name": "stdout",
     "output_type": "stream",
     "text": [
      "After assign value at third index value is:  [2, 4, 'hello', 8, 10]\n"
     ]
    }
   ],
   "source": [
    "#2. In a list of values stored in a variable called spam, how would you assign the value 'hello' as the third value?\n",
    "\n",
    "\n",
    "'''\n",
    "        (Assume [2, 4, 6, 8, 10] are in spam.)\n",
    "'''\n",
    "\n",
    "#Answer:-\n",
    "\n",
    "spam = [2, 4, 6, 8, 10]\n",
    "spam[2] = 'hello'\n",
    "print(\"After assign value at third index value is: \",spam)\n"
   ]
  },
  {
   "cell_type": "code",
   "execution_count": 1,
   "id": "1fda804a",
   "metadata": {},
   "outputs": [
    {
     "data": {
      "text/plain": [
       "'d'"
      ]
     },
     "execution_count": 1,
     "metadata": {},
     "output_type": "execute_result"
    }
   ],
   "source": [
    "# 3. What is the value of spam[int(int('3'*2) / 11)]?\n",
    "\n",
    "#Answer:-\n",
    "'''\n",
    "     Explanation:-\n",
    "                   --> '3'*2 multiplies the string '3' by 2, resulting in the string '33'.\n",
    "                   --> int('33') converts the string '33' to an integer, which evaluates to 33.\n",
    "                   --> int('33') / 11 performs integer division, dividing 33 by 11, resulting in 3.\n",
    "                   --> spam[3] accesses the value at index 3 in the list or string assigned to the variable spam.\n",
    "'''\n",
    "\n",
    "spam = ['a', 'b','c','d']\n",
    "spam[int(int('3' * 2) / 11)] # spam[int(33/11)] = spam[3]"
   ]
  },
  {
   "cell_type": "code",
   "execution_count": 2,
   "id": "693f0fb9",
   "metadata": {},
   "outputs": [
    {
     "name": "stdout",
     "output_type": "stream",
     "text": [
      "d\n"
     ]
    }
   ],
   "source": [
    "# 4. What is the value of spam[-1]\n",
    "\n",
    "spam = ['a', 'b','c','d']\n",
    "k=spam[-1] # As  negative index will start from right to left or in simple from last \n",
    "print(k)"
   ]
  },
  {
   "cell_type": "code",
   "execution_count": 3,
   "id": "f27ef5e8",
   "metadata": {},
   "outputs": [
    {
     "name": "stdout",
     "output_type": "stream",
     "text": [
      "['a', 'b']\n"
     ]
    }
   ],
   "source": [
    "# 5. What is the value of spam[:2]?\n",
    "spam = ['a', 'b','c','d']\n",
    "l=spam[:2] # as missing of first value default it start from 0 and second place will be till user given value. \n",
    "print(l)\n"
   ]
  },
  {
   "cell_type": "raw",
   "id": "f0456f8f",
   "metadata": {},
   "source": [
    " Given :-\n",
    "         Let's pretend bacon has the list [3.14, 'cat',11, 'cat', True] for the next three questions."
   ]
  },
  {
   "cell_type": "code",
   "execution_count": 4,
   "id": "dc9c10ed",
   "metadata": {},
   "outputs": [
    {
     "name": "stdout",
     "output_type": "stream",
     "text": [
      "1\n"
     ]
    }
   ],
   "source": [
    "# 6. What is the value of bacon.index('cat')?\n",
    "\n",
    "#Answer:-\n",
    "\n",
    "bacon = [3.14, 'cat', 11, 'cat', True]\n",
    "v=bacon.index('cat') # it returns the index of'cat' from the list\n",
    "print(v)"
   ]
  },
  {
   "cell_type": "code",
   "execution_count": 6,
   "id": "1114ae4b",
   "metadata": {},
   "outputs": [
    {
     "name": "stdout",
     "output_type": "stream",
     "text": [
      "After append the list is: [3.14, 'cat', 11, 'cat', True, 99]\n"
     ]
    }
   ],
   "source": [
    "# 7. How does bacon.append(99) change the look of the list value in bacon?\n",
    "\n",
    "#Answer:-\n",
    "'''\n",
    "        Explanation:-\n",
    "                     By using append function we can add the 99 give value in the existing list\n",
    "'''\n",
    "\n",
    "bacon = [3.14, 'cat', 11, 'cat', True]\n",
    "bacon.append(99)\n",
    "print(\"After append the list is:\",bacon)"
   ]
  },
  {
   "cell_type": "code",
   "execution_count": 8,
   "id": "db890618",
   "metadata": {},
   "outputs": [
    {
     "name": "stdout",
     "output_type": "stream",
     "text": [
      "After Removing from List is: [3.14, 11, 'cat', True]\n"
     ]
    }
   ],
   "source": [
    "# 8.How does bacon.remove('cat') change the look of the list in bacon?\n",
    "\n",
    "#Answer:-\n",
    "'''\n",
    "     Explanation:-\n",
    "                  By using built-in fuction remove we can delete the element required by the user\n",
    "     \n",
    "'''\n",
    "bacon = [3.14, 'cat', 11, 'cat', True]\n",
    "bacon.remove('cat')\n",
    "print(\"After Removing from List is:\",bacon)"
   ]
  },
  {
   "cell_type": "code",
   "execution_count": 11,
   "id": "495f25fb",
   "metadata": {},
   "outputs": [
    {
     "name": "stdout",
     "output_type": "stream",
     "text": [
      "concatination of two list is: [1, 2, 4, 7, 8, 6, 9, 4]\n",
      "\n",
      " replication of list: [1, 2, 4, 7, 1, 2, 4, 7, 1, 2, 4, 7]\n"
     ]
    }
   ],
   "source": [
    "# 9. What are the list concatenation and list replication operators?\n",
    "\n",
    "#Answer:-\n",
    "'''\n",
    "       ( + ) is list concatination operator ,( * ) is list replication operator \n",
    "'''\n",
    "k=[1,2,4,7] #List1\n",
    "h=[8,6,9,4] #List2\n",
    "g=k+h       #concatination of two list\n",
    "o=k*3       #replication operator\n",
    "\n",
    "print(\"concatination of two list is:\",g)\n",
    "print(\"\\n replication of list:\",o)"
   ]
  },
  {
   "cell_type": "code",
   "execution_count": 16,
   "id": "c77a0352",
   "metadata": {},
   "outputs": [
    {
     "name": "stdout",
     "output_type": "stream",
     "text": [
      "append is done: ['dog', 'cat', 'lion']\n",
      "insert is done ['dog', 'tiger', 'cat', 'lion']\n"
     ]
    }
   ],
   "source": [
    "# 10.Difference:-\n",
    "'''\n",
    "What is difference between the list methods append() and insert()?\n",
    "\n",
    "Answer:-\n",
    "            append() Appends object to the end of the list\n",
    "            insert() Insert object before index\n",
    "            \n",
    "        example given below\n",
    "'''\n",
    "\n",
    "a=['dog','cat']\n",
    "a.append('lion') #this append lion at end of list or last index of list\n",
    "print(\"append is done:\",a)\n",
    "\n",
    "\n",
    "a.insert(1,'tiger') # i am giving index 1 so that it will store at index 1 only\n",
    "print(\"insert is done\",a)"
   ]
  },
  {
   "cell_type": "code",
   "execution_count": 18,
   "id": "ee73b591",
   "metadata": {},
   "outputs": [
    {
     "name": "stdout",
     "output_type": "stream",
     "text": [
      "After remove of element in List is: [3.14, 'cat', 'cat', True]\n",
      "After pop of element in List is: [3.14, 'cat', 11, 'cat']\n"
     ]
    }
   ],
   "source": [
    "# 11. What are the two methods for removing items from a list?\n",
    "\n",
    "'''\n",
    "        -->Method1:-Remove\n",
    "        -->Method2:-Pop\n",
    "      \n",
    "      Examples are:-\n",
    "'''\n",
    "\n",
    "#remove(item) - removeds first occurence of a item\n",
    "bacon = [3.14, 'cat', 11, 'cat', True]\n",
    "bacon.remove(11)\n",
    "print(\"After remove of element in List is:\",bacon)\n",
    "\n",
    "\n",
    "#pop()\n",
    "bacon = [3.14, 'cat', 11, 'cat', True]\n",
    "bacon.pop() # If user is not giving value means it will pop the default last index \n",
    "print(\"After pop of element in List is:\",bacon)\n",
    "     "
   ]
  },
  {
   "cell_type": "raw",
   "id": "fcf9d053",
   "metadata": {},
   "source": [
    "12.Describe how list values and string values are identical.\n",
    "\n",
    "Answer:-\n",
    "        --> Can be used with the in and not in operators\n",
    "        --> Both lists and strings can be passed to len() fuction\n",
    "         --> It can have indexes and slices\n",
    "         --> We Can be used in for loops\n",
    "         --> We Can be concatenated or replicated \n",
    "         "
   ]
  },
  {
   "cell_type": "raw",
   "id": "b029dbfa",
   "metadata": {},
   "source": [
    "13.What's the difference between tuples and lists?\n",
    "Answer:-\n",
    "         Lists :-\n",
    "                 1.Mutable.\n",
    "                 2.We can add, remove, or changed values in lists. \n",
    "                 3.list are denoted by square brackets [ ].\n",
    "                 \n",
    "         Tuples:-\n",
    "                 1.Immutable\n",
    "                 2.They cannot be changed at all. \n",
    "                 3.Tuples are denoted by parentheses ( )."
   ]
  },
  {
   "cell_type": "code",
   "execution_count": 21,
   "id": "6d3bc19b",
   "metadata": {},
   "outputs": [
    {
     "name": "stdout",
     "output_type": "stream",
     "text": [
      "(42,)\n",
      "checking of class: <class 'tuple'>\n"
     ]
    }
   ],
   "source": [
    "# 14. How do you type a tuple value that only contains the integer 42?\n",
    "\n",
    "a= (42,)\n",
    "print(a)\n",
    "print(\"checking of class:\",type(a))"
   ]
  },
  {
   "cell_type": "code",
   "execution_count": 29,
   "id": "3529e059",
   "metadata": {},
   "outputs": [
    {
     "name": "stdout",
     "output_type": "stream",
     "text": [
      "conversion of List to tuple is: (2, 3)\n",
      "\n",
      " checking of class is: <class 'tuple'>\n",
      "\n",
      " conversion of tuple to list is: [2, 3]\n",
      "\n",
      " checking of class is: <class 'list'>\n"
     ]
    }
   ],
   "source": [
    "# 15. How do you get a list value's tuple form? How do you get a tuple value's list form?\n",
    "\n",
    "# List to tuple\n",
    "\n",
    "p =[2,3]\n",
    "q = tuple(p)\n",
    "print(\"conversion of List to tuple is:\",q)\n",
    "print(\"\\n checking of class is:\",type(q))\n",
    "\n",
    "\n",
    "\n",
    "# Tuple to List\n",
    "t1 = (2,3)\n",
    "t = list(t1)\n",
    "print(\"\\n conversion of tuple to list is:\",t)\n",
    "print(\"\\n checking of class is:\",type(t))"
   ]
  },
  {
   "cell_type": "raw",
   "id": "04c196ae",
   "metadata": {},
   "source": [
    "16. Variables that \"contain\" list values are not necessarily lists themselves. Instead, what do they contain?\n",
    "\n",
    "Answer:- \n",
    "           --> They contain references to list values\n",
    "           --> variables are like labels or references that point to a memory location where the actual list data is stored.\n"
   ]
  },
  {
   "cell_type": "raw",
   "id": "c54151c1",
   "metadata": {},
   "source": [
    "17.How do you distinguish between copy.copy() and copy.deepcopy()?\n",
    "\n",
    "Answer:-\n",
    "        copy.copy():-\n",
    "                        creates a new object that shares the same references to the nested objects as the original. If you                               modify the original object or its nested objects, the changes will be reflected in the shallow copy, \n",
    "                        and vice versa. However, the structure of the objects remains separate.\n",
    "                        \n",
    "         \n",
    "         copy.deepcopy():-\n",
    "                           creates a completely independent object with its own copies of all nested objects. It recursively \n",
    "                           copies the nested objects as well,so any changes made to the original object or its nested objects                              will not affect the deep copy, and vice versa.\n",
    "        \n",
    "        \n",
    "                        "
   ]
  }
 ],
 "metadata": {
  "kernelspec": {
   "display_name": "Python 3 (ipykernel)",
   "language": "python",
   "name": "python3"
  },
  "language_info": {
   "codemirror_mode": {
    "name": "ipython",
    "version": 3
   },
   "file_extension": ".py",
   "mimetype": "text/x-python",
   "name": "python",
   "nbconvert_exporter": "python",
   "pygments_lexer": "ipython3",
   "version": "3.9.12"
  }
 },
 "nbformat": 4,
 "nbformat_minor": 5
}
